{
 "cells": [
  {
   "cell_type": "code",
   "execution_count": 10,
   "metadata": {
    "tags": [
     "remove_cell"
    ]
   },
   "outputs": [
    {
     "name": "stderr",
     "output_type": "stream",
     "text": [
      "\n",
      "[notice] A new release of pip is available: 22.3.1 -> 23.2.1\n",
      "[notice] To update, run: python.exe -m pip install --upgrade pip\n"
     ]
    }
   ],
   "source": [
    "# Install the necessary dependencies\n",
    "\n",
    "import os\n",
    "import sys\n",
    "!{sys.executable} -m pip install --quiet pandas langcodes langcodes[data] tabulate\n",
    "\n",
    "module_path = os.path.abspath(os.path.join('../'))\n",
    "if module_path not in sys.path:\n",
    "    sys.path.append(module_path)\n",
    "\n",
    "import pandas as pd\n",
    "import numpy as np\n",
    "from IPython.core.display import Markdown\n",
    "from lib.utils.db import *\n",
    "from lib.utils.merger import *\n",
    "from lib.utils.awesome_list import *\n",
    "from constants import DB_URL"
   ]
  },
  {
   "cell_type": "markdown",
   "metadata": {},
   "source": [
    "# Awesome Free AI Learning Resource\n",
    "\n"
   ]
  },
  {
   "cell_type": "code",
   "execution_count": 11,
   "metadata": {},
   "outputs": [
    {
     "name": "stdout",
     "output_type": "stream",
     "text": [
      "None\n",
      "None\n",
      "None\n",
      "None\n",
      "None\n",
      "None\n",
      "None\n"
     ]
    }
   ],
   "source": [
    "course_df = init_db(DB_URL, 'Course')\n",
    "tag_df = init_db(DB_URL, 'Tag')\n",
    "course_tag_df = init_db(DB_URL, 'CourseTags')\n",
    "user_df = init_db(DB_URL, 'User')\n",
    "user_course_df = init_db(DB_URL, 'UserCourses')\n",
    "organization_df = init_db(DB_URL, 'Organization')\n",
    "course_organization_df = init_db(DB_URL, 'CourseOrganizations')"
   ]
  },
  {
   "cell_type": "code",
   "execution_count": 12,
   "metadata": {},
   "outputs": [],
   "source": [
    "course_df = merge_table(course_df, user_course_df, user_df, 'courseId', 'userId', {'name':'author', 'source':'authorSrc'})"
   ]
  },
  {
   "cell_type": "code",
   "execution_count": 13,
   "metadata": {},
   "outputs": [],
   "source": [
    "course_df = merge_table(course_df, course_organization_df, organization_df, 'courseId', 'organizationId', {'name':'organization', 'source':'organizationSrc'})"
   ]
  },
  {
   "cell_type": "code",
   "execution_count": 14,
   "metadata": {},
   "outputs": [],
   "source": [
    "course_df = merge_table(course_df, course_tag_df, tag_df, 'courseId', 'tagId', {'name':'tag'})"
   ]
  },
  {
   "cell_type": "code",
   "execution_count": 15,
   "metadata": {},
   "outputs": [],
   "source": [
    "# Rearrange the columns of course_df\n",
    "order = ['id', 'title', 'description', 'source', 'author',\n",
    "         'authorSrc', 'organization', 'organizationSrc',\n",
    "         'objectives', 'topic', 'cover', 'syllabus', 'price',\n",
    "         'cost', 'level', 'type', 'hasCert', 'language', 'tag', 'license', 'published_at',\n",
    "         'createdAt', 'updatedAt']\n",
    "course_df = course_df[order]"
   ]
  },
  {
   "cell_type": "code",
   "execution_count": 16,
   "metadata": {},
   "outputs": [
    {
     "data": {
      "text/markdown": [
       "|    | Title                                                                                                                                                                                       | Author                                                                                                                                                                                                                                                                                                                                              | Organization                                                         | Topic               | Price          | Level           | Type          | Hascert   | Language               | Tag                                                                                               | Published at   |\n",
       "|---:|:--------------------------------------------------------------------------------------------------------------------------------------------------------------------------------------------|:----------------------------------------------------------------------------------------------------------------------------------------------------------------------------------------------------------------------------------------------------------------------------------------------------------------------------------------------------|:---------------------------------------------------------------------|:--------------------|:---------------|:----------------|:--------------|:----------|:-----------------------|:--------------------------------------------------------------------------------------------------|:---------------|\n",
       "|  1 | <a href=\"https://www.freecodecamp.org/learn/data-visualization/\">Data Visualization</a>                                                                                                     |                                                                                                                                                                                                                                                                                                                                                     | <a href=\"https://freecodecamp.org\">freeCodeCamp</a>                  | 💿 Data science     | 🟩 Free        | 🟩 Beginner     | 🟩 Self-paced | ✅        | 🇺🇸 English             | 💿 Data science 📈 Data visualization 🫙 Javascript 👨‍🏫 Projects                                  |                |\n",
       "|  2 | <a href=\"https://www.freecodecamp.org/learn/relational-database/\">Relational Database</a>                                                                                                   |                                                                                                                                                                                                                                                                                                                                                     | <a href=\"https://freecodecamp.org\">freeCodeCamp</a>                  | 💿 Data science     | 🟩 Free        | 🟩 Beginner     | 🟩 Self-paced | ✅        | 🇺🇸 English             | 💿 Data science 👨‍🏫 Projects 📊 SQL                                                              |                |\n",
       "|  3 | <a href=\"https://www.freecodecamp.org/learn/scientific-computing-with-python/\">Scientific Computing with Python</a>                                                                         | <a href=\"https://www.linkedin.com/in/charlesseverance/\">Charles Severance</a>                                                                                                                                                                                                                                                                       | <a href=\"https://freecodecamp.org\">freeCodeCamp</a>                  | 💿 Data science     | 🟩 Free        | 🟩 Beginner     | 🟩 Self-paced | ✅        | 🇺🇸 English             | 💿 Data science 👨‍🏫 Projects 🐍 Python 🎥 Video                                                  |                |\n",
       "|  4 | <a href=\"https://www.freecodecamp.org/learn/data-analysis-with-python/\">Data Analysis with Python</a>                                                                                       | <a href=\"https://www.linkedin.com/in/santiagobasulto\">Santiago Basulto</a>                                                                                                                                                                                                                                                                          | <a href=\"https://freecodecamp.org\">freeCodeCamp</a>                  | 💿 Data science     | 🟩 Free        | 🟩 Beginner     | 🟩 Self-paced | ✅        | 🇺🇸 English             | 💿 Data science 👨‍🏫 Projects 🐍 Python 🎥 Video                                                  |                |\n",
       "|  5 | <a href=\"https://www.freecodecamp.org/learn/machine-learning-with-python/\">Machine Learning with Python</a>                                                                                 | <a href=\"https://www.linkedin.com/in/tim-ruscica/\">Tim Ruscica</a>                                                                                                                                                                                                                                                                                  | <a href=\"https://freecodecamp.org\">freeCodeCamp</a>                  | 🤖 AI               | 🟩 Free        | 🟩 Beginner     | 🟩 Self-paced | ✅        | 🇺🇸 English             | 👨‍🏫 Projects 🐍 Python 🎥 Video 🧠 Machine learning                                              |                |\n",
       "|  6 | <a href=\"https://cilvr.cs.nyu.edu/doku.php?id=courses:start\">Big Data, Large Scale Machine Learning</a>                                                                                     | <a href=\"http://hunch.net/~jl/\">John Langford</a>, <a href=\"https://en.wikipedia.org/wiki/Yann_LeCun\">Yann LeCun</a>                                                                                                                                                                                                                                | <a href=\"https://www.nyu.edu/\">New York University</a>               | 🧠 Machine learning | 🟩 Free        | 🟥 Advanced     | 🟩 Self-paced | ❌        | 🇺🇸 English             | 👨‍🏫 Projects 🎥 Video 🧠 Machine learning ⚡️ Big data                                            |                |\n",
       "|  7 | <a href=\"https://ocw.mit.edu/courses/6-034-artificial-intelligence-fall-2010/pages/syllabus/\">Artificial Intelligence</a>                                                                   | <a href=\"https://en.wikipedia.org/wiki/Patrick_Winston\">Patrick Henry Winston</a>                                                                                                                                                                                                                                                                   |                                                                      | 🤖 AI               | 🟩 Free        | 🟩 Beginner     | 🟩 Self-paced | ❌        | 🇺🇸 English             | 👨‍🏫 Projects 🎥 Video 🤖 AI                                                                      |                |\n",
       "|  8 | <a href=\"http://web.stanford.edu/class/cs224n/\">Natural Language Processing with Deep Learning</a>                                                                                          | <a href=\"https://en.wikipedia.org/wiki/Christopher_D._Manning\">Chris Manning</a>                                                                                                                                                                                                                                                                    | <a href=\"https://www.stanford.edu/\">Stanford</a>                     | 👽 Deep learning    | 🟩 Free        | 🟥 Advanced     | 🟩 Self-paced | ❌        | 🇺🇸 English             | 👨‍🏫 Projects 🎥 Video 👽 Deep learning 🗣️ NLP                                                     |                |\n",
       "|  9 | <a href=\"https://www.cs.ox.ac.uk/people/nando.defreitas/machinelearning/\">Machine Learning: 2014-2015</a>                                                                                   | <a href=\"https://en.wikipedia.org/wiki/Nando_de_Freitas\">Nando de Freitas</a>                                                                                                                                                                                                                                                                       | <a href=\"https://www.ox.ac.uk/\">Oxford</a>                           | 🧠 Machine learning | 🟩 Free        | 🟩 Beginner     | 🟩 Self-paced | ❌        | 🇺🇸 English             | 👨‍🏫 Projects 🎥 Video 🧠 Machine learning                                                        |                |\n",
       "| 10 | <a href=\"https://courses.nvidia.com/courses/course-v1:DLI+S-FX-01+V1/\">Getting Started with Deep Learning</a>                                                                               |                                                                                                                                                                                                                                                                                                                                                     | <a href=\"www.nvidia.com/\">NVIDIA</a>                                 | 👽 Deep learning    | 🟥 Paid of 90$ | 🟥 Advanced     | 🟩 Self-paced | ✅        | 🇺🇸 English             | 💿 Data science 👨‍🏫 Projects 🧠 Machine learning ⚡️ Big data 👽 Deep learning 👓 Computer vision |                |\n",
       "| 11 | <a href=\"https://courses.nvidia.com/courses/course-v1:DLI+S-IV-02+V2/\">Building Video AI Applications at the Edge on Jetson Nano</a>                                                        |                                                                                                                                                                                                                                                                                                                                                     | <a href=\"www.nvidia.com/\">NVIDIA</a>                                 | 🦿 Robotics         | 🟩 Free        | 🟥 Advanced     | 🟩 Self-paced | ✅        | 🇺🇸 English             | 👨‍🏫 Projects 🧠 Machine learning 👽 Deep learning 👓 Computer vision                             |                |\n",
       "| 12 | <a href=\"https://courses.nvidia.com/courses/course-v1:DLI+S-RX-02+V2/\">Getting Started with AI on Jetson Nano</a>                                                                           |                                                                                                                                                                                                                                                                                                                                                     | <a href=\"www.nvidia.com/\">NVIDIA</a>                                 | 🦿 Robotics         | 🟩 Free        | 🟥 Advanced     | 🟩 Self-paced | ✅        | 🇺🇸 English             | 👓 Computer vision 💻 Hardware 🦿 Robotics                                                        |                |\n",
       "| 13 | <a href=\"https://www.ipam.ucla.edu/programs/summer-schools/graduate-summer-school-deep-learning-feature-learning/?tab=overview\">Graduate Summer School: Deep Learning, Feature Learning</a> | <a href=\"https://en.wikipedia.org/wiki/Yann_LeCun\">Yann LeCun</a>, <a href=\"https://en.wikipedia.org/wiki/Yoshua_Bengio\">Yoshua Bengio</a>, <a href=\"https://en.wikipedia.org/wiki/Geoffrey_Hinton\">Geoffrey Hinton</a>, <a href=\"https://www.andrewng.org/\">Andrew Ng</a>, <a href=\"https://en.wikipedia.org/wiki/Stanley_Osher\">Stanley Osher</a> | <a href=\"https://www.ucla.edu/\">UCLA</a>                             | 👽 Deep learning    | 🟩 Free        | 🟥 Advanced     | 🟩 Self-paced | ❌        | 🇺🇸 English             | 🎥 Video 🧠 Machine learning 👽 Deep learning                                                     | 2012/7/27      |\n",
       "| 14 | <a href=\"https://uwaterloo.ca/data-analytics/teaching/deep-learning-2017\">Deep Learning 2017</a>                                                                                            | <a href=\"https://www.linkedin.com/in/ali-ghodsi-525b0a61/\">Ali Ghodsi</a>                                                                                                                                                                                                                                                                           | <a href=\"https://uwaterloo.ca\">University of Waterloo</a>            | 👽 Deep learning    | 🟩 Free        | 🟥 Advanced     | 🟩 Self-paced | ❌        | 🇺🇸 English             | 👨‍🏫 Projects 🎥 Video 🧠 Machine learning 👽 Deep learning                                       | 2017/9/7       |\n",
       "| 15 | <a href=\"https://uwaterloo.ca/data-analytics/deep-learning\">Deep Learning</a>                                                                                                               | <a href=\"https://www.linkedin.com/in/ali-ghodsi-525b0a61/\">Ali Ghodsi</a>                                                                                                                                                                                                                                                                           | <a href=\"https://uwaterloo.ca\">University of Waterloo</a>            | 👽 Deep learning    | 🟩 Free        | 🟥 Advanced     | 🟩 Self-paced | ❌        | 🇺🇸 English             | 👨‍🏫 Projects 🎥 Video 🧠 Machine learning 👽 Deep learning                                       | 2015/9/1       |\n",
       "| 16 | <a href=\"https://www.stat.cmu.edu/~ryantibs/statml/\">Statistical Machine Learning: Spring 2017</a>                                                                                          | <a href=\"http://www.stat.cmu.edu/~ryantibs/\">Ryan Tibshirani</a>, <a href=\"https://en.wikipedia.org/wiki/Larry_A._Wasserman\">Larry Wasserman</a>                                                                                                                                                                                                    | <a href=\"https://www.cmu.edu/\">Carnegie Mellon University</a>        | 🧠 Machine learning | 🟩 Free        | 🟩 Beginner     | 🟩 Self-paced | ❌        | 🇺🇸 English             | 👨‍🏫 Projects 🎥 Video 🧠 Machine learning                                                        | 2017/1/17      |\n",
       "| 17 | <a href=\"http://uvadlc.github.io/\">UVA Deep Learning Course</a>                                                                                                                             | <a href=\"https://yukimasano.github.io/\">Yuki Asano</a>                                                                                                                                                                                                                                                                                              | <a href=\"https://www.uva.nl/en\">University of Amsterdam</a>          | 👽 Deep learning    | 🟩 Free        | 🟥 Advanced     | 🟩 Self-paced | ❌        | 🇺🇸 English             | 👨‍🏫 Projects 🎥 Video 🧠 Machine learning 👽 Deep learning                                       | 2021/11/1      |\n",
       "| 18 | <a href=\"https://deeplearning.mit.edu/\">MIT Deep Learning and Artificial Intelligence Lectures</a>                                                                                          |                                                                                                                                                                                                                                                                                                                                                     | <a href=\"https://www.mit.edu/\">MIT</a>                               | 👽 Deep learning    | 🟩 Free        | 🟥 Advanced     | 🟩 Self-paced | ❌        | 🇺🇸 English             | 👨‍🏫 Projects 🎥 Video 🧠 Machine learning 👽 Deep learning 🚗 Self driving                       | 2020/1/10      |\n",
       "| 19 | <a href=\"http://introtodeeplearning.com/\">Introduction to Deep Learning</a>                                                                                                                 |                                                                                                                                                                                                                                                                                                                                                     | <a href=\"https://www.mit.edu/\">MIT</a>                               | 👽 Deep learning    | 🟩 Free        | 🟥 Advanced     | 🟩 Self-paced | ❌        | 🇺🇸 English             | 👨‍🏫 Projects 🎥 Video 🧠 Machine learning 👽 Deep learning                                       | 2023/3/10      |\n",
       "| 20 | <a href=\"http://rail.eecs.berkeley.edu/deeprlcourse/\">Deep Reinforcement Learning</a>                                                                                                       | <a href=\"https://www.linkedin.com/in/sergey-levine-5a31a24\">Sergey Levine</a>                                                                                                                                                                                                                                                                       | <a href=\"https://www.berkeley.edu/\">UC Berkeley</a>                  | 👽 Deep learning    | 🟩 Free        | 🟥 Advanced     | 🟩 Self-paced | ❌        | 🇺🇸 English             | 👨‍🏫 Projects 🎥 Video 🧠 Machine learning 👽 Deep learning                                       | 2022/10/11     |\n",
       "| 21 | <a href=\"https://course.fast.ai/\">Practical Deep Learning</a>                                                                                                                               | <a href=\"https://en.wikipedia.org/wiki/Jeremy_Howard_(entrepreneur)\">Jeremy Howard</a>                                                                                                                                                                                                                                                              |                                                                      | 👽 Deep learning    | 🟩 Free        | 🟥 Advanced     | 🟩 Self-paced | ❌        | 🇺🇸 English             | 👨‍🏫 Projects 🎥 Video 🧠 Machine learning 👽 Deep learning                                       | 2022/7/22      |\n",
       "| 22 | <a href=\"http://deeplearning.cs.cmu.edu/F23/index.html\">Introduction to Deep Learning</a>                                                                                                   | <a href=\"https://www.linkedin.com/in/bhiksha-raj-0531b0/\">Bhiksha Raj</a>, <a href=\"http://www.cs.cmu.edu/~rsingh/\">Rita Singh</a>                                                                                                                                                                                                                  | <a href=\"https://www.cmu.edu/\">Carnegie Mellon University</a>        | 👽 Deep learning    | 🟩 Free        | 🟥 Advanced     | 🟩 Self-paced | ❌        | 🇺🇸 English             | 👨‍🏫 Projects 🎥 Video 🧠 Machine learning 👽 Deep learning                                       | 2023/9/1       |\n",
       "| 23 | <a href=\"https://www.deeplearning.ai/courses/ai-for-everyone/\">AI for Everyone</a>                                                                                                          | <a href=\"https://www.andrewng.org/\">Andrew Ng</a>                                                                                                                                                                                                                                                                                                   |                                                                      | 🤖 AI               | 🟩 Free        | 🟩 Beginner     | 🟩 Self-paced | ❌        | 🇺🇸 English             | 🎥 Video 🧠 Machine learning 🤖 AI 👽 Deep learning                                               |                |\n",
       "| 24 | <a href=\"https://cds.nyu.edu/deep-learning/\">Yann LeCun’s Deep Learning Course at CDS</a>                                                                                                   | <a href=\"https://en.wikipedia.org/wiki/Yann_LeCun\">Yann LeCun</a>                                                                                                                                                                                                                                                                                   | <a href=\"https://www.nyu.edu/\">New York University</a>               | 👽 Deep learning    | 🟩 Free        | 🟥 Advanced     | 🟩 Self-paced | ❌        | 🇺🇸 English 🇫🇷 français | 👨‍🏫 Projects 🎥 Video 🧠 Machine learning 👽 Deep learning                                       |                |\n",
       "| 25 | <a href=\"https://webcms3.cse.unsw.edu.au/COMP9444/19T3/\">Neural Networks and Deep Learning</a>                                                                                              | <a href=\"https://www.linkedin.com/in/alan-blair-42b6a5110\">Alan Blair</a>                                                                                                                                                                                                                                                                           | <a href=\"https://www.unsw.edu.au/\">University of New South Wales</a> | 👽 Deep learning    | 🟩 Free        | 🟥 Advanced     | 🟩 Self-paced | ❌        | 🇺🇸 English             | 👨‍🏫 Projects 🎥 Video 🧠 Machine learning 👽 Deep learning                                       | 2019/9/1       |\n",
       "| 26 | <a href=\"https://spinningup.openai.com/en/latest/\">Spinning Up in Deep Reinforcement Learning </a>                                                                                          | <a href=\"https://www.linkedin.com/in/joshua-achiam-13887199/\">Josh Achiam                                                                                                                                                                                                                                                                           |                                                                      | 👽 Deep learning    | 🟩 Free        | 🟥 Advanced     | 🟩 Self-paced | ❌        | 🇺🇸 English             | 👨‍🏫 Projects 🧠 Machine learning 👽 Deep learning 🎮 Reinforcement learning                      |                |\n",
       "|    |                                                                                                                                                                                             | </a>                                                                                                                                                                                                                                                                                                                                                |                                                                      |                     |                |                 |               |           |                        |                                                                                                   |                |\n",
       "| 27 | <a href=\"https://c.d2l.ai/berkeley-stat-157/\">Introduction to Deep Learning</a>                                                                                                             | <a href=\"https://alex.smola.org/\">Alex Smola</a>, <a href=\"https://www.linkedin.com/in/mulicmu/\">Mu Li</a>                                                                                                                                                                                                                                          | <a href=\"https://www.berkeley.edu/\">UC Berkeley</a>                  | 👽 Deep learning    | 🟩 Free        | 🟥 Advanced     | 🟩 Self-paced | ❌        | 🇺🇸 English             | 👨‍🏫 Projects 🎥 Video 🧠 Machine learning 👽 Deep learning                                       | 2019/1/1       |\n",
       "| 28 | <a href=\"https://c.d2l.ai/odsc2019/\">Dive into Deep Learning in 1 Day</a>                                                                                                                   | <a href=\"https://alex.smola.org/\">Alex Smola</a>                                                                                                                                                                                                                                                                                                    | <a href=\"https://odsc.com/\">ODSC</a>                                 | 👽 Deep learning    | 🟩 Free        | 🟧 Intermediate | 🟩 Self-paced | ❌        | 🇺🇸 English             | 👨‍🏫 Projects 🧠 Machine learning 👽 Deep learning                                                | 2019/10/1      |\n",
       "| 29 | <a href=\"https://c.d2l.ai/gtc2020/\">Dive into Deep Learning</a>                                                                                                                             | <a href=\"https://www.linkedin.com/in/rachelsonghu/\">Rachel Hu</a>, <a href=\"https://www.astonzhang.com/\">Aston Zhang</a>                                                                                                                                                                                                                            | <a href=\"https://www.nvidia.com/gtc/\">GTC</a>                        | 👽 Deep learning    | 🟩 Free        | 🟧 Intermediate | 🟩 Self-paced | ❌        | 🇺🇸 English             | 👨‍🏫 Projects 🧠 Machine learning 👽 Deep learning                                                | 2020/10/1      |\n",
       "| 30 | <a href=\"https://c.d2l.ai/zh-v2/\">动手学深度学习在线课程</a>                                                                                                                                | <a href=\"https://www.linkedin.com/in/mulicmu/\">Mu Li</a>                                                                                                                                                                                                                                                                                            | <a href=\"https://d2l.ai/\">D2L</a>                                    | 👽 Deep learning    | 🟩 Free        | 🟥 Advanced     | 🟩 Self-paced | ❌        | 🇨🇳 中文                | 👨‍🏫 Projects 🎥 Video 🧠 Machine learning 👽 Deep learning                                       | 2021/3/1       |\n",
       "| 31 | <a href=\"https://c.d2l.ai/stanford-cs329p/\">Practical Machine Learning</a>                                                                                                                  | <a href=\"https://alex.smola.org/\">Alex Smola</a>, <a href=\"https://www.linkedin.com/in/mulicmu/\">Mu Li</a>                                                                                                                                                                                                                                          |                                                                      | 👽 Deep learning    | 🟩 Free        | 🟥 Advanced     | 🟩 Self-paced | ❌        | 🇺🇸 English             | 👨‍🏫 Projects 🧠 Machine learning 👽 Deep learning                                                | 2021/9/1       |"
      ],
      "text/plain": [
       "<IPython.core.display.Markdown object>"
      ]
     },
     "metadata": {},
     "output_type": "display_data"
    }
   ],
   "source": [
    "# Render the output\n",
    "excluded_columns = ['id', 'source', 'organizationSrc',\n",
    "                    'authorSrc', 'cost', 'createdAt',  'objectives',\n",
    "                    'description', 'syllabus', 'duration', 'license', 'updatedAt', 'cover']\n",
    "df = apply_common_style(course_df, excluded_columns)\n",
    "\n",
    "display(Markdown(df.to_markdown()))\n",
    "markdown_content = df.to_markdown()\n",
    "\n",
    "file_path = './README.md'\n",
    "with open(file_path, 'w', encoding='utf-8') as file:\n",
    "    file.write(markdown_content)"
   ]
  }
 ],
 "metadata": {
  "kernelspec": {
   "display_name": "Python 3 (ipykernel)",
   "language": "python",
   "name": "python3"
  },
  "language_info": {
   "codemirror_mode": {
    "name": "ipython",
    "version": 3
   },
   "file_extension": ".py",
   "mimetype": "text/x-python",
   "name": "python",
   "nbconvert_exporter": "python",
   "pygments_lexer": "ipython3",
   "version": "3.9.13"
  }
 },
 "nbformat": 4,
 "nbformat_minor": 4
}
