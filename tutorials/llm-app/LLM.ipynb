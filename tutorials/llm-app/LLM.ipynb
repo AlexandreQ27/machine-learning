{
  "cells": [
    {
      "cell_type": "code",
      "execution_count": 1,
      "metadata": {
        "colab": {
          "base_uri": "https://localhost:8080/"
        },
        "id": "ztFUmlJaxN9K",
        "outputId": "6aa6c854-5d8d-4e66-a5e2-866e9b54e835"
      },
      "outputs": [],
      "source": [
        "!pip install chromadb\n",
        "!pip install dotenv\n",
        "!pip install \"langchain[llms]\"\n",
        "!pip install openai\n",
        "!pip install sentence_transformers\n",
        "!pip install tiktoken"
      ]
    },
    {
      "attachments": {},
      "cell_type": "markdown",
      "metadata": {},
      "source": [
        "# Step-by-Step Guide: Create Your First LLM App in Less Than 100 Lines of Code\n",
        "\n",
        "In this Ocademy tutorial, we will utilize the MIT AI news dataset to construct the knowledge base and use LLM to interact with it. \n",
        "\n",
        "Imagine if MIT News📰 were to introduce an AI assistant for their readers, enabling them to quickly search and delve into various technology topics on their website, without the need to comb through numerous archived articles. This tutorial provides a glimpse into how such an assistant could be developed!\n",
        "\n",
        "As a high-level overview, let's break down the key parts of an LLM app's architecture:\n",
        "\n",
        "- Embedding models 🧮 convert text into numeric representations that LLMs can understand\n",
        "\n",
        "- Vector databases 🧑‍💻 store these numeric embeddings for quick lookups and responses\n",
        "\n",
        "- Orchestration frameworks like LangChain or LlamaIndex 🔧 simplify how different LLMs are queried in sequence\n",
        "\n",
        "- The LLMs themselves 🧠 are massive models trained on enormous datasets to understand language\n",
        "\n",
        "- LLMOps 🚀 handles the infrastructure like knowledge bases, data pipelines, caching and developer tools\n",
        "\n",
        "- Hosting 🖥️ provides cloud infrastructure so users can actually access and interact with the LLM app\n",
        "\n",
        "A diagram for how everything fits together:\n",
        "\n",
        "<img title=\"an LLM app stack\" alt=\"an LLM app stack\" src=\"./LLMappstack.png\" width=800 height=400>\n",
        "\n",
        "\n",
        "Now let's get started.\n"
      ]
    },
    {
      "attachments": {},
      "cell_type": "markdown",
      "metadata": {
        "id": "QMsMK-Dl_w6g"
      },
      "source": [
        "First things first. Here we use dotenv library to load our OPENAI's API key. You need to have a `.env` file containing `OPENAI_API_KEY=\"\"` in the same directory."
      ]
    },
    {
      "cell_type": "code",
      "execution_count": 15,
      "metadata": {
        "colab": {
          "base_uri": "https://localhost:8080/"
        },
        "id": "Ptz4TXcf4Si3",
        "outputId": "d9e07e8c-66c7-42e2-8311-21d73956fbea"
      },
      "outputs": [
        {
          "data": {
            "text/plain": [
              "True"
            ]
          },
          "execution_count": 15,
          "metadata": {},
          "output_type": "execute_result"
        }
      ],
      "source": [
        "from dotenv import load_dotenv,find_dotenv\n",
        "load_dotenv(find_dotenv())"
      ]
    },
    {
      "attachments": {},
      "cell_type": "markdown",
      "metadata": {
        "id": "kGHTIUgo2WGQ"
      },
      "source": [
        "# First, contextual data\n",
        "\n",
        "\n",
        "\n",
        "MIT publishes News about technologies since 90s. The Dataset we use contains News specially about topic \"AI\", from 1994 to 2023.\n",
        "\n",
        "Credit: [Kaggle MIT AI News](https://www.kaggle.com/datasets/deepanshudalal09/mit-ai-news-published-till-2023?resource=download), for educational purpose only. "
      ]
    },
    {
      "cell_type": "code",
      "execution_count": 17,
      "metadata": {
        "colab": {
          "base_uri": "https://localhost:8080/",
          "height": 206
        },
        "id": "4L6fj1uJ1lw9",
        "outputId": "3aef2e2d-fbb9-4d43-a873-cfb7016ff168"
      },
      "outputs": [
        {
          "data": {
            "text/html": [
              "\n",
              "  <div id=\"df-b6b94c84-8d35-45e4-8c0d-ae347b1bf17c\" class=\"colab-df-container\">\n",
              "    <div>\n",
              "<style scoped>\n",
              "    .dataframe tbody tr th:only-of-type {\n",
              "        vertical-align: middle;\n",
              "    }\n",
              "\n",
              "    .dataframe tbody tr th {\n",
              "        vertical-align: top;\n",
              "    }\n",
              "\n",
              "    .dataframe thead th {\n",
              "        text-align: right;\n",
              "    }\n",
              "</style>\n",
              "<table border=\"1\" class=\"dataframe\">\n",
              "  <thead>\n",
              "    <tr style=\"text-align: right;\">\n",
              "      <th></th>\n",
              "      <th>Unnamed: 0</th>\n",
              "      <th>Published Date</th>\n",
              "      <th>Author</th>\n",
              "      <th>Source</th>\n",
              "      <th>Article Header</th>\n",
              "      <th>Sub_Headings</th>\n",
              "      <th>Article Body</th>\n",
              "      <th>Url</th>\n",
              "    </tr>\n",
              "  </thead>\n",
              "  <tbody>\n",
              "    <tr>\n",
              "      <th>0</th>\n",
              "      <td>0</td>\n",
              "      <td>July 7, 2023</td>\n",
              "      <td>Adam Zewe</td>\n",
              "      <td>MIT News Office</td>\n",
              "      <td>Learning the language of molecules to predict ...</td>\n",
              "      <td>This AI system only needs a small amount of da...</td>\n",
              "      <td>['Discovering new materials and drugs typicall...</td>\n",
              "      <td>https://news.mit.edu/2023/learning-language-mo...</td>\n",
              "    </tr>\n",
              "    <tr>\n",
              "      <th>1</th>\n",
              "      <td>1</td>\n",
              "      <td>July 6, 2023</td>\n",
              "      <td>Alex Ouyang</td>\n",
              "      <td>Abdul Latif Jameel Clinic for Machine Learning...</td>\n",
              "      <td>MIT scientists build a system that can generat...</td>\n",
              "      <td>BioAutoMATED, an open-source, automated machin...</td>\n",
              "      <td>['Is it possible to build machine-learning mod...</td>\n",
              "      <td>https://news.mit.edu/2023/bioautomated-open-so...</td>\n",
              "    </tr>\n",
              "    <tr>\n",
              "      <th>2</th>\n",
              "      <td>2</td>\n",
              "      <td>June 30, 2023</td>\n",
              "      <td>Jennifer Michalowski</td>\n",
              "      <td>McGovern Institute for Brain Research</td>\n",
              "      <td>When computer vision works more like a brain, ...</td>\n",
              "      <td>Training artificial neural networks with data ...</td>\n",
              "      <td>['From cameras to self-driving cars, many of t...</td>\n",
              "      <td>https://news.mit.edu/2023/when-computer-vision...</td>\n",
              "    </tr>\n",
              "    <tr>\n",
              "      <th>3</th>\n",
              "      <td>3</td>\n",
              "      <td>June 30, 2023</td>\n",
              "      <td>Mary Beth Gallagher</td>\n",
              "      <td>School of Engineering</td>\n",
              "      <td>Educating national security leaders on artific...</td>\n",
              "      <td>Experts from MIT’s School of Engineering, Schw...</td>\n",
              "      <td>['Understanding artificial intelligence and ho...</td>\n",
              "      <td>https://news.mit.edu/2023/educating-national-s...</td>\n",
              "    </tr>\n",
              "    <tr>\n",
              "      <th>4</th>\n",
              "      <td>4</td>\n",
              "      <td>June 30, 2023</td>\n",
              "      <td>Adam Zewe</td>\n",
              "      <td>MIT News Office</td>\n",
              "      <td>Researchers teach an AI to write better chart ...</td>\n",
              "      <td>A new dataset can help scientists develop auto...</td>\n",
              "      <td>['Chart captions that explain complex trends a...</td>\n",
              "      <td>https://news.mit.edu/2023/researchers-chart-ca...</td>\n",
              "    </tr>\n",
              "  </tbody>\n",
              "</table>\n",
              "</div>\n",
              "    <div class=\"colab-df-buttons\">\n",
              "\n",
              "  <div class=\"colab-df-container\">\n",
              "    <button class=\"colab-df-convert\" onclick=\"convertToInteractive('df-b6b94c84-8d35-45e4-8c0d-ae347b1bf17c')\"\n",
              "            title=\"Convert this dataframe to an interactive table.\"\n",
              "            style=\"display:none;\">\n",
              "\n",
              "  <svg xmlns=\"http://www.w3.org/2000/svg\" height=\"24px\" viewBox=\"0 -960 960 960\">\n",
              "    <path d=\"M120-120v-720h720v720H120Zm60-500h600v-160H180v160Zm220 220h160v-160H400v160Zm0 220h160v-160H400v160ZM180-400h160v-160H180v160Zm440 0h160v-160H620v160ZM180-180h160v-160H180v160Zm440 0h160v-160H620v160Z\"/>\n",
              "  </svg>\n",
              "    </button>\n",
              "\n",
              "  <style>\n",
              "    .colab-df-container {\n",
              "      display:flex;\n",
              "      gap: 12px;\n",
              "    }\n",
              "\n",
              "    .colab-df-convert {\n",
              "      background-color: #E8F0FE;\n",
              "      border: none;\n",
              "      border-radius: 50%;\n",
              "      cursor: pointer;\n",
              "      display: none;\n",
              "      fill: #1967D2;\n",
              "      height: 32px;\n",
              "      padding: 0 0 0 0;\n",
              "      width: 32px;\n",
              "    }\n",
              "\n",
              "    .colab-df-convert:hover {\n",
              "      background-color: #E2EBFA;\n",
              "      box-shadow: 0px 1px 2px rgba(60, 64, 67, 0.3), 0px 1px 3px 1px rgba(60, 64, 67, 0.15);\n",
              "      fill: #174EA6;\n",
              "    }\n",
              "\n",
              "    .colab-df-buttons div {\n",
              "      margin-bottom: 4px;\n",
              "    }\n",
              "\n",
              "    [theme=dark] .colab-df-convert {\n",
              "      background-color: #3B4455;\n",
              "      fill: #D2E3FC;\n",
              "    }\n",
              "\n",
              "    [theme=dark] .colab-df-convert:hover {\n",
              "      background-color: #434B5C;\n",
              "      box-shadow: 0px 1px 3px 1px rgba(0, 0, 0, 0.15);\n",
              "      filter: drop-shadow(0px 1px 2px rgba(0, 0, 0, 0.3));\n",
              "      fill: #FFFFFF;\n",
              "    }\n",
              "  </style>\n",
              "\n",
              "    <script>\n",
              "      const buttonEl =\n",
              "        document.querySelector('#df-b6b94c84-8d35-45e4-8c0d-ae347b1bf17c button.colab-df-convert');\n",
              "      buttonEl.style.display =\n",
              "        google.colab.kernel.accessAllowed ? 'block' : 'none';\n",
              "\n",
              "      async function convertToInteractive(key) {\n",
              "        const element = document.querySelector('#df-b6b94c84-8d35-45e4-8c0d-ae347b1bf17c');\n",
              "        const dataTable =\n",
              "          await google.colab.kernel.invokeFunction('convertToInteractive',\n",
              "                                                    [key], {});\n",
              "        if (!dataTable) return;\n",
              "\n",
              "        const docLinkHtml = 'Like what you see? Visit the ' +\n",
              "          '<a target=\"_blank\" href=https://colab.research.google.com/notebooks/data_table.ipynb>data table notebook</a>'\n",
              "          + ' to learn more about interactive tables.';\n",
              "        element.innerHTML = '';\n",
              "        dataTable['output_type'] = 'display_data';\n",
              "        await google.colab.output.renderOutput(dataTable, element);\n",
              "        const docLink = document.createElement('div');\n",
              "        docLink.innerHTML = docLinkHtml;\n",
              "        element.appendChild(docLink);\n",
              "      }\n",
              "    </script>\n",
              "  </div>\n",
              "\n",
              "\n",
              "<div id=\"df-e2d2e2bb-570e-466f-8cba-f71fcfff14c5\">\n",
              "  <button class=\"colab-df-quickchart\" onclick=\"quickchart('df-e2d2e2bb-570e-466f-8cba-f71fcfff14c5')\"\n",
              "            title=\"Suggest charts.\"\n",
              "            style=\"display:none;\">\n",
              "\n",
              "<svg xmlns=\"http://www.w3.org/2000/svg\" height=\"24px\"viewBox=\"0 0 24 24\"\n",
              "     width=\"24px\">\n",
              "    <g>\n",
              "        <path d=\"M19 3H5c-1.1 0-2 .9-2 2v14c0 1.1.9 2 2 2h14c1.1 0 2-.9 2-2V5c0-1.1-.9-2-2-2zM9 17H7v-7h2v7zm4 0h-2V7h2v10zm4 0h-2v-4h2v4z\"/>\n",
              "    </g>\n",
              "</svg>\n",
              "  </button>\n",
              "\n",
              "<style>\n",
              "  .colab-df-quickchart {\n",
              "      --bg-color: #E8F0FE;\n",
              "      --fill-color: #1967D2;\n",
              "      --hover-bg-color: #E2EBFA;\n",
              "      --hover-fill-color: #174EA6;\n",
              "      --disabled-fill-color: #AAA;\n",
              "      --disabled-bg-color: #DDD;\n",
              "  }\n",
              "\n",
              "  [theme=dark] .colab-df-quickchart {\n",
              "      --bg-color: #3B4455;\n",
              "      --fill-color: #D2E3FC;\n",
              "      --hover-bg-color: #434B5C;\n",
              "      --hover-fill-color: #FFFFFF;\n",
              "      --disabled-bg-color: #3B4455;\n",
              "      --disabled-fill-color: #666;\n",
              "  }\n",
              "\n",
              "  .colab-df-quickchart {\n",
              "    background-color: var(--bg-color);\n",
              "    border: none;\n",
              "    border-radius: 50%;\n",
              "    cursor: pointer;\n",
              "    display: none;\n",
              "    fill: var(--fill-color);\n",
              "    height: 32px;\n",
              "    padding: 0;\n",
              "    width: 32px;\n",
              "  }\n",
              "\n",
              "  .colab-df-quickchart:hover {\n",
              "    background-color: var(--hover-bg-color);\n",
              "    box-shadow: 0 1px 2px rgba(60, 64, 67, 0.3), 0 1px 3px 1px rgba(60, 64, 67, 0.15);\n",
              "    fill: var(--button-hover-fill-color);\n",
              "  }\n",
              "\n",
              "  .colab-df-quickchart-complete:disabled,\n",
              "  .colab-df-quickchart-complete:disabled:hover {\n",
              "    background-color: var(--disabled-bg-color);\n",
              "    fill: var(--disabled-fill-color);\n",
              "    box-shadow: none;\n",
              "  }\n",
              "\n",
              "  .colab-df-spinner {\n",
              "    border: 2px solid var(--fill-color);\n",
              "    border-color: transparent;\n",
              "    border-bottom-color: var(--fill-color);\n",
              "    animation:\n",
              "      spin 1s steps(1) infinite;\n",
              "  }\n",
              "\n",
              "  @keyframes spin {\n",
              "    0% {\n",
              "      border-color: transparent;\n",
              "      border-bottom-color: var(--fill-color);\n",
              "      border-left-color: var(--fill-color);\n",
              "    }\n",
              "    20% {\n",
              "      border-color: transparent;\n",
              "      border-left-color: var(--fill-color);\n",
              "      border-top-color: var(--fill-color);\n",
              "    }\n",
              "    30% {\n",
              "      border-color: transparent;\n",
              "      border-left-color: var(--fill-color);\n",
              "      border-top-color: var(--fill-color);\n",
              "      border-right-color: var(--fill-color);\n",
              "    }\n",
              "    40% {\n",
              "      border-color: transparent;\n",
              "      border-right-color: var(--fill-color);\n",
              "      border-top-color: var(--fill-color);\n",
              "    }\n",
              "    60% {\n",
              "      border-color: transparent;\n",
              "      border-right-color: var(--fill-color);\n",
              "    }\n",
              "    80% {\n",
              "      border-color: transparent;\n",
              "      border-right-color: var(--fill-color);\n",
              "      border-bottom-color: var(--fill-color);\n",
              "    }\n",
              "    90% {\n",
              "      border-color: transparent;\n",
              "      border-bottom-color: var(--fill-color);\n",
              "    }\n",
              "  }\n",
              "</style>\n",
              "\n",
              "  <script>\n",
              "    async function quickchart(key) {\n",
              "      const quickchartButtonEl =\n",
              "        document.querySelector('#' + key + ' button');\n",
              "      quickchartButtonEl.disabled = true;  // To prevent multiple clicks.\n",
              "      quickchartButtonEl.classList.add('colab-df-spinner');\n",
              "      try {\n",
              "        const charts = await google.colab.kernel.invokeFunction(\n",
              "            'suggestCharts', [key], {});\n",
              "      } catch (error) {\n",
              "        console.error('Error during call to suggestCharts:', error);\n",
              "      }\n",
              "      quickchartButtonEl.classList.remove('colab-df-spinner');\n",
              "      quickchartButtonEl.classList.add('colab-df-quickchart-complete');\n",
              "    }\n",
              "    (() => {\n",
              "      let quickchartButtonEl =\n",
              "        document.querySelector('#df-e2d2e2bb-570e-466f-8cba-f71fcfff14c5 button');\n",
              "      quickchartButtonEl.style.display =\n",
              "        google.colab.kernel.accessAllowed ? 'block' : 'none';\n",
              "    })();\n",
              "  </script>\n",
              "</div>\n",
              "    </div>\n",
              "  </div>\n"
            ],
            "text/plain": [
              "   Unnamed: 0 Published Date                Author  \\\n",
              "0           0   July 7, 2023             Adam Zewe   \n",
              "1           1   July 6, 2023           Alex Ouyang   \n",
              "2           2  June 30, 2023  Jennifer Michalowski   \n",
              "3           3  June 30, 2023   Mary Beth Gallagher   \n",
              "4           4  June 30, 2023             Adam Zewe   \n",
              "\n",
              "                                              Source  \\\n",
              "0                                    MIT News Office   \n",
              "1  Abdul Latif Jameel Clinic for Machine Learning...   \n",
              "2              McGovern Institute for Brain Research   \n",
              "3                              School of Engineering   \n",
              "4                                    MIT News Office   \n",
              "\n",
              "                                      Article Header  \\\n",
              "0  Learning the language of molecules to predict ...   \n",
              "1  MIT scientists build a system that can generat...   \n",
              "2  When computer vision works more like a brain, ...   \n",
              "3  Educating national security leaders on artific...   \n",
              "4  Researchers teach an AI to write better chart ...   \n",
              "\n",
              "                                        Sub_Headings  \\\n",
              "0  This AI system only needs a small amount of da...   \n",
              "1  BioAutoMATED, an open-source, automated machin...   \n",
              "2  Training artificial neural networks with data ...   \n",
              "3  Experts from MIT’s School of Engineering, Schw...   \n",
              "4  A new dataset can help scientists develop auto...   \n",
              "\n",
              "                                        Article Body  \\\n",
              "0  ['Discovering new materials and drugs typicall...   \n",
              "1  ['Is it possible to build machine-learning mod...   \n",
              "2  ['From cameras to self-driving cars, many of t...   \n",
              "3  ['Understanding artificial intelligence and ho...   \n",
              "4  ['Chart captions that explain complex trends a...   \n",
              "\n",
              "                                                 Url  \n",
              "0  https://news.mit.edu/2023/learning-language-mo...  \n",
              "1  https://news.mit.edu/2023/bioautomated-open-so...  \n",
              "2  https://news.mit.edu/2023/when-computer-vision...  \n",
              "3  https://news.mit.edu/2023/educating-national-s...  \n",
              "4  https://news.mit.edu/2023/researchers-chart-ca...  "
            ]
          },
          "execution_count": 17,
          "metadata": {},
          "output_type": "execute_result"
        }
      ],
      "source": [
        "import pandas as pd\n",
        "news = pd.read_csv(\"./articles.csv\", index_col=False)\n",
        "news.head()"
      ]
    },
    {
      "cell_type": "code",
      "execution_count": 22,
      "metadata": {
        "id": "VEH8dp-W5aet"
      },
      "outputs": [],
      "source": [
        "# basic data cleaning: remove square bracket\n",
        "news['Article Body'] = news['Article Body'].str.replace(\"[\\[\\]]\", \"\", regex=True)"
      ]
    },
    {
      "cell_type": "code",
      "execution_count": 27,
      "metadata": {
        "colab": {
          "base_uri": "https://localhost:8080/"
        },
        "id": "fEmmZ4sO3VPW",
        "outputId": "52477e36-9079-418d-c45e-538cef7c9707"
      },
      "outputs": [
        {
          "name": "stdout",
          "output_type": "stream",
          "text": [
            "(1018, 8)\n",
            "count     1018.000000\n",
            "mean      5250.654224\n",
            "std       2779.689887\n",
            "min          0.000000\n",
            "25%       3075.500000\n",
            "50%       5603.000000\n",
            "75%       7210.250000\n",
            "max      17331.000000\n",
            "Name: Article Body, dtype: float64\n"
          ]
        }
      ],
      "source": [
        "print(news.shape)\n",
        "print(news['Article Body'].str.len().describe())"
      ]
    },
    {
      "attachments": {},
      "cell_type": "markdown",
      "metadata": {},
      "source": [
        "## Next up, let's load the documents\n",
        "\n",
        "Here, we use the `DataFrameLoader` in `LangChain` to create the document, since our original data comes with `.csv` format. However, there are various loaders available for different sources, such as text files, HTML, Markdown, JSON and even PDFs. For their usage, check out the [LangChain documents](https://python.langchain.com/docs/modules/data_connection/document_loaders/)."
      ]
    },
    {
      "cell_type": "code",
      "execution_count": 107,
      "metadata": {
        "id": "s2CszqQq3wXT"
      },
      "outputs": [],
      "source": [
        "from langchain.document_loaders import DataFrameLoader\n",
        "from langchain.vectorstores import Chroma\n",
        "\n",
        "DOC_NUM = 100 # here I cap the length for quick iteration\n",
        "df_loader = DataFrameLoader(news.head(DOC_NUM), page_content_column=\"Article Body\")\n",
        "docs = df_loader.load()"
      ]
    },
    {
      "attachments": {},
      "cell_type": "markdown",
      "metadata": {
        "id": "KQqwVdFO6hOr"
      },
      "source": [
        "# Now create the embedding\n",
        "\n",
        "What is embedding? It's simply a numerical representation of any data. The embedding process involves capturing the semantic meaning of the input (in our case, texts) and placing similar inputs close together in the embedding space, allowing for easy comparison and analysis of the information.\n",
        "\n",
        "The embedding model does the work of turning data into numerical representation, which takes the form of vectors.\n",
        "\n",
        "* 🧱 splitting: As the first step, we will need to divide the document into blocks to later feed to the embedding model. Here, we use LangChain's `RecursiveCharacterTextSplitter` to chunk the article text. _Why recursive you should ask?_ Well, this is due to some quirkiness in the format of our data. For simpler-formatted text, `CharacterTextSplitter` should suffice.\n",
        "\n",
        "* 🎯 chunking strategy: A good article by pinecone about this: https://www.pinecone.io/learn/chunking-strategies/ But basically the `chunk_size` and `chunk_overlap` parameters can be used to control the granularity of the text splitting. The optimal values for these parameters depend on various factors, including the size and complexity of the documents, the specific use case, and the available computing resources."
      ]
    },
    {
      "cell_type": "code",
      "execution_count": 108,
      "metadata": {
        "id": "L9ueeKBu5EWI"
      },
      "outputs": [],
      "source": [
        "from langchain.text_splitter import RecursiveCharacterTextSplitter\n",
        "\n",
        "text_splitter = RecursiveCharacterTextSplitter(\n",
        "    separators = [\"',\\s+'\", \"\\n\\n\", \"\\n\", \" \"],\n",
        "    chunk_size = 1000,\n",
        "    chunk_overlap = 100,\n",
        "    length_function = len,\n",
        "    is_separator_regex = True,\n",
        ")\n",
        "texts = text_splitter.split_documents(docs)"
      ]
    },
    {
      "attachments": {},
      "cell_type": "markdown",
      "metadata": {
        "id": "40a5y6P69Fz1"
      },
      "source": [
        "Now, instantiate the embedding model. Here, we use an open source Hugging Face model; there are other options availabe such as OpenAI, Cohere, for which you will write functions like this:\n",
        "```python\n",
        "from langchain.embeddings import OpenAIEmbeddings\n",
        "embeddings = OpenAIEmbeddings(model=\"text-embedding-ada-002\")\n",
        "```"
      ]
    },
    {
      "cell_type": "code",
      "execution_count": 89,
      "metadata": {
        "id": "vIvg2r2L8OVQ"
      },
      "outputs": [],
      "source": [
        "from langchain.embeddings import HuggingFaceEmbeddings\n",
        "embedding_function = HuggingFaceEmbeddings(\n",
        "    model_name=\"sentence-transformers/all-MiniLM-L6-v2\"\n",
        ")"
      ]
    },
    {
      "attachments": {},
      "cell_type": "markdown",
      "metadata": {
        "id": "L605vqp2DkQ-"
      },
      "source": [
        "Let's call the embedding model on the first piece of text in our documents and see what it does. As you can see, the `query_result` is a vector of numerical numbers.\n"
      ]
    },
    {
      "cell_type": "code",
      "execution_count": 103,
      "metadata": {
        "colab": {
          "base_uri": "https://localhost:8080/"
        },
        "id": "uD7BBunN9Eaq",
        "outputId": "50d5d8df-989e-44d5-977b-531ec5d9c87b"
      },
      "outputs": [
        {
          "name": "stdout",
          "output_type": "stream",
          "text": [
            "[-0.08029699325561523, -0.08065493404865265, 0.018059276044368744, 0.032889898866415024, 0.019862568005919456, -0.017788495868444443, -0.0479583665728569, 0.02034035325050354, -0.003369471523910761, -0.019730767235159874, -0.05397197976708412, -0.028060955926775932, -0.033454909920692444, 0.05161232501268387, -0.06324969977140427, 0.029960889369249344, -0.0068223439157009125, 0.06033194437623024, -0.0667320191860199, -0.055941399186849594, 0.012173715978860855, 0.05964687466621399, 0.0953216701745987, 0.008063014596700668, 0.011641476303339005, 0.07151490449905396, 0.03841050714254379, -0.038250427693128586, -0.03261560574173927, -0.032569803297519684, 0.07426116615533829, 0.0034182798117399216, -0.04425995796918869, -0.027609990909695625, 0.02255490981042385, 0.02317224256694317, -0.06794223189353943, 0.046671509742736816, 0.041355330497026443, -0.046351443976163864, 0.020062889903783798, -0.057135675102472305, 0.01833488792181015, 0.047480229288339615, 0.09442918747663498, 0.022624433040618896, 0.011445599608123302, -0.02929035574197769, 0.05644892156124115, 0.032155971974134445, -0.06608694791793823, -0.09682579338550568, -0.009956390596926212, -0.0019220534013584256, -0.01160904299467802, 0.038964610546827316, -0.011539154686033726, -0.02075301483273506, -0.02745080180466175, 0.039661955088377, 0.07595409452915192, -0.07907848060131073, -0.05422496795654297, -0.001110775163397193, 0.03309088945388794, 0.04674471169710159, 0.06181382015347481, 0.046690039336681366, 0.0019216983346268535, -0.030430017039179802, 0.045845504850149155, 0.105988509953022, -0.014810968190431595, 0.10291655361652374, 0.08670393377542496, 0.04795975238084793, 0.010075028985738754, 0.06111839413642883, 0.040800437331199646, -0.025098329409956932, -0.027149785310029984, -0.01557173766195774, 0.06602735072374344, 0.043507277965545654, 0.051968153566122055, 0.002601668704301119, 0.03578083962202072, 0.0733751729130745, -0.05326193571090698, -0.029740961268544197, -0.002509359735995531, -0.08059502393007278, -0.0181902963668108, -0.08343156427145004, -0.1329995095729828, 0.041178423911333084, 0.009469379670917988, -0.06458397954702377, 0.0003507874207571149, 0.040877316147089005, -0.039768144488334656, 0.04657085984945297, 0.016257373616099358, -0.02041117288172245, 0.004313146695494652, -0.039711643010377884, 0.03577530384063721, 0.029378175735473633, 0.0784543976187706, -0.018971439450979233, 0.005498302634805441, 0.07511663436889648, 0.00212496193125844, -0.006662165280431509, 0.009190780110657215, -0.0006456899573095143, 0.0037180327344685793, -0.02456100843846798, -0.019163407385349274, 0.11340151727199554, -0.11726608872413635, -0.014153862372040749, -0.06458321213722229, 0.014280600473284721, -0.018787816166877747, -0.014290515333414078, -0.10717743635177612, -6.652133551562864e-34, 0.05259356647729874, 0.008988233283162117, 0.10800055414438248, 0.06611913442611694, 0.005579592660069466, -0.06732967495918274, -0.04022562503814697, -0.04908021166920662, -0.05547533184289932, 0.022320063784718513, -0.031063323840498924, -0.0071620396338403225, -0.02431890182197094, 0.07160164415836334, -0.016863815486431122, -0.02510993741452694, -0.003416548017412424, 0.045531339943408966, 0.03085215948522091, -0.03153841197490692, -0.05581296980381012, -0.011231709271669388, 0.023751871660351753, -0.0452219694852829, -0.03026430867612362, 0.05331858992576599, -0.02327839843928814, 0.036090388894081116, 0.00860527902841568, -0.013060211203992367, -0.05732588842511177, 0.03577518090605736, -0.016304058954119682, 0.05363037437200546, 0.013017958961427212, -0.006960777565836906, -0.02309443987905979, -0.044694554060697556, 0.0679493248462677, -0.015802282840013504, 0.006941790226846933, 0.014981124550104141, 0.052195753902196884, -0.02714707888662815, -0.05353927984833717, 0.04220477491617203, -0.03121732920408249, -0.0634383112192154, -0.09028780460357666, -0.04109630733728409, 0.01654866151511669, -0.00047933499445207417, -0.01707039587199688, -0.021580973640084267, 0.008730919100344181, 0.07525661587715149, -0.026686880737543106, 0.005990984383970499, 0.01768871769309044, -0.00815319363027811, 0.01686505787074566, 0.05663105100393295, -0.05390683189034462, 0.1157228872179985, -0.0029695637058466673, 0.07526682317256927, -0.013546906411647797, 0.0162858534604311, 0.03826628625392914, 0.08316200971603394, -0.009880034253001213, 0.0015637665055692196, -0.038417328149080276, -0.056181300431489944, 0.09857147932052612, -0.007044088561087847, 0.04247301071882248, -0.10923746973276138, 0.01867629960179329, 0.09073691070079803, 0.010692053474485874, 0.014217614196240902, -0.05699293315410614, -0.030958911404013634, -0.08391337841749191, -0.025458576157689095, 0.0007290879730135202, -0.10879223793745041, -0.033907387405633926, -0.002590901916846633, -0.07380743324756622, -0.11399663984775543, -0.01775074005126953, -0.011011927388608456, -0.021505409851670265, -1.842198747094195e-33, -0.0033274407032877207, -0.008284051902592182, 0.023836160078644753, 0.026089921593666077, 0.004324475768953562, -0.013007906265556812, -0.07030900567770004, -0.0047965641133487225, -0.017840106040239334, 0.02683161571621895, 0.09809403866529465, 0.002464308636263013, -0.04221300780773163, -0.029759369790554047, -0.061594534665346146, 0.018331753090023994, -0.015188640914857388, -0.031269121915102005, 0.06985902786254883, -0.02541864849627018, -0.06350425630807877, 0.09875267744064331, -0.0008555069216527045, 0.04318062216043472, -0.052593596279621124, -0.029430249705910683, -0.012454544194042683, 0.03946835920214653, -0.007362535689026117, 0.007073679473251104, -0.07076516002416611, -0.06447511166334152, -0.04175030440092087, 0.011629960499703884, -0.0705593153834343, 0.08165539801120758, 0.0625348910689354, -0.027191681787371635, 0.030038200318813324, -0.01955059915781021, -0.003846189472824335, 0.02989114075899124, -0.15439362823963165, -0.01679874397814274, 0.0089421970769763, -0.035002097487449646, -0.03196602687239647, -0.0010928098345175385, 0.029080022126436234, -0.019779106602072716, 0.04551155865192413, 0.008059385232627392, -0.0446624793112278, -0.12086201459169388, -0.02647695131599903, -0.02244364097714424, -0.015349126420915127, -0.03802594915032387, 0.08540879189968109, 0.07059520483016968, -0.13795195519924164, -0.04250170290470123, 0.015103167854249477, 0.07041838765144348, -0.08486443758010864, -0.02982172928750515, -0.05374345928430557, 0.07602254301309586, 0.030953263863921165, -0.021308381110429764, 0.04143853485584259, 0.025143848732113838, 0.06272923946380615, 0.10743489116430283, -0.00797290075570345, -0.0805516317486763, -0.001688878983259201, -0.08611451834440231, -0.07685836404561996, -0.04996547847986221, 0.06354441493749619, -0.040838997811079025, -0.03185965493321419, 0.08981325477361679, 0.07745341956615448, 0.04349365830421448, 0.0801093652844429, 0.03128885105252266, 0.00047847387031652033, 0.0002960324636660516, -0.009449842385947704, 0.05682939663529396, -0.033311571925878525, 0.07257773727178574, -0.04374237358570099, -3.77919633365309e-08, 0.0638398826122284, -0.009334253147244453, 0.095219187438488, -0.06522820144891739, 0.028098730370402336, 0.0761052593588829, -0.012004517018795013, 0.14398770034313202, -0.01849147118628025, 0.007650184910744429, 0.052262481302022934, 0.024455633014440536, -0.060001760721206665, 0.03123374469578266, 0.011012665927410126, 0.08577117323875427, 0.01610396057367325, 0.006404823623597622, -0.024396508932113647, 0.023728834465146065, 0.04617895558476448, 0.010622777044773102, 0.08702657371759415, -0.0007364939083345234, 0.09340309351682663, -0.15145541727542877, -0.012081803753972054, 0.00744673190638423, -0.07141755521297455, 0.06440305709838867, -0.0929868295788765, -0.01872183196246624, 0.03565594553947449, 0.06752737611532211, 0.07338577508926392, 0.04144444689154625, -0.025755124166607857, -0.06590019911527634, -0.0681319311261177, 0.007608841639012098, -0.09934312850236893, 0.0874791145324707, -0.11903194338083267, 0.0051944199949502945, 0.002535410225391388, -0.005202124826610088, 0.013943384401500225, 0.007774109020829201, 0.02964646741747856, 0.02337433211505413, 0.06047416850924492, 0.03016945905983448, 0.04605843126773834, -0.039424821734428406, -0.002726190257817507, 0.05896520987153053, -0.030224869027733803, -0.06258226931095123, 0.005693021696060896, -0.011318353936076164, -0.00509229302406311, -0.057896070182323456, 0.017414936795830727, -0.04749419540166855]\n"
          ]
        }
      ],
      "source": [
        "# Turn the first text chunk into a vector with the embedding\n",
        "query_result = embedding_function.embed_query(texts[0].page_content)\n",
        "print(query_result)"
      ]
    },
    {
      "attachments": {},
      "cell_type": "markdown",
      "metadata": {},
      "source": [
        "Finally, let's generate embeddings for the entire documents and save to vector database.\n",
        "We use Chroma in this case. Pinecone, Qdrant and FAISS are also popular choices."
      ]
    },
    {
      "cell_type": "code",
      "execution_count": 105,
      "metadata": {
        "colab": {
          "base_uri": "https://localhost:8080/"
        },
        "id": "7bTcks_HAchb",
        "outputId": "fabf2ef4-c287-49de-b26d-dcdea1e335a0"
      },
      "outputs": [
        {
          "name": "stdout",
          "output_type": "stream",
          "text": [
            "', 'By contrast, the system created by the MIT researchers can effectively predict molecular properties using only a small amount of data. Their system has an underlying understanding of the rules that dictate how building blocks combine to produce valid molecules. These rules capture the similarities between molecular structures, which helps the system generate new molecules and predict their properties in a data-efficient manner.', 'This method outperformed other machine-learning approaches on both small and large datasets, and was able to accurately predict molecular properties and generate viable molecules when given a dataset with fewer than 100 samples.', '“Our goal with this project is to use some data-driven methods to speed up the discovery of new molecules, so you can train a model to do the prediction without all of these cost-heavy experiments,” says lead author Minghao Guo, a computer science and electrical engineering (EECS) graduate student.\n"
          ]
        }
      ],
      "source": [
        "from langchain.vectorstores import Chroma\n",
        "# load it into Chroma\n",
        "db = Chroma.from_documents(texts, embedding_function)\n",
        "\n",
        "# do a simple vector similarity search\n",
        "query = \"What are the progress of predicting molecular properties\"\n",
        "results = db.similarity_search(query)\n",
        "print(results[0].page_content)"
      ]
    },
    {
      "attachments": {},
      "cell_type": "markdown",
      "metadata": {
        "id": "tD_MV7eNDy5s"
      },
      "source": [
        "# Finally, \"chain\" the LLM and the vector database\n",
        "\n",
        "This is to enable question and answering with LLM, over our contextual data in the vector database.\n",
        "For LLM, we use OpenAI API. Alternatively, you can choose `huggingface_hub` or `langchain.llms` for open source options such a Llama 2, GPT4All, Dolly 2.0."
      ]
    },
    {
      "cell_type": "code",
      "execution_count": 117,
      "metadata": {
        "id": "AI-Au6RcAv5q"
      },
      "outputs": [],
      "source": [
        "from langchain.chat_models import ChatOpenAI\n",
        "from langchain.chains import RetrievalQA\n",
        "\n",
        "llm = ChatOpenAI(\n",
        "    model_name=\"gpt-3.5-turbo\",\n",
        "    temperature=0.3,\n",
        ")\n",
        "# set chain_type to stuff: The simplest option, it just takes the documents it deems appropriate and uses them in the prompt to pass to the model.\n",
        "qa = RetrievalQA.from_chain_type(llm=llm, chain_type=\"stuff\", retriever=db.as_retriever())\n"
      ]
    },
    {
      "attachments": {},
      "cell_type": "markdown",
      "metadata": {},
      "source": [
        "Now, let's try to ask a question!"
      ]
    },
    {
      "cell_type": "code",
      "execution_count": 118,
      "metadata": {
        "colab": {
          "base_uri": "https://localhost:8080/",
          "height": 87
        },
        "id": "Wc8ocjAKZbs5",
        "outputId": "ef55a054-8bbb-485c-cf65-6cbd2648ac4f"
      },
      "outputs": [
        {
          "data": {
            "application/vnd.google.colaboratory.intrinsic+json": {
              "type": "string"
            },
            "text/plain": [
              "'The researchers from MIT and the MIT-Watson AI Lab have developed a new framework that can predict molecular properties more efficiently than traditional deep-learning approaches. Their system has an underlying understanding of the rules that govern how building blocks combine to form molecules, allowing it to generate new molecules and accurately predict their properties using only a small amount of data. This method outperformed other machine-learning approaches on both small and large datasets, and it was able to accurately predict molecular properties and generate viable molecules even with fewer than 100 samples. The system learns the \"language\" of molecules, known as a molecular grammar, and uses this knowledge to predict properties more efficiently. The researchers have also demonstrated the effectiveness of their approach in predicting physical properties of polymers. Overall, their work shows promising progress in predicting molecular properties using machine learning.'"
            ]
          },
          "execution_count": 118,
          "metadata": {},
          "output_type": "execute_result"
        }
      ],
      "source": [
        "query = \"What are the progress of predicting molecular properties\"\n",
        "qa.run(query)"
      ]
    },
    {
      "attachments": {},
      "cell_type": "markdown",
      "metadata": {
        "id": "QEOXiYyBW0d_"
      },
      "source": [
        "# Final touch, prompt template\n",
        "\n",
        "[Prompt engineering](https://www.pinecone.io/learn/series/langchain/langchain-prompt-templates/) is a crucial aspect of working with language models, as it directly impacts the quality and relevance of the generated text. LangChain simplifies prompt engineering through powerful features for creating and customizing prompt templates. Let's try it out.\n",
        "\n"
      ]
    },
    {
      "cell_type": "code",
      "execution_count": 119,
      "metadata": {
        "colab": {
          "base_uri": "https://localhost:8080/"
        },
        "id": "8WrBPxgRW6JZ",
        "outputId": "f6401d33-fe27-4b80-8abe-f0a65d87e292"
      },
      "outputs": [
        {
          "name": "stdout",
          "output_type": "stream",
          "text": [
            "Yes, AI can make art. The field of AI-generated art has been developing for several decades, with early attempts dating back to the 1960s. Over time, models and algorithms have become more sophisticated, allowing AI systems to create visual and textual art. However, there are ongoing debates and discussions surrounding copyright, disinformation, biases, and the distinction between AI and human creativity. Artists and researchers are exploring the potential of AI as a new medium for artistic expression.\n"
          ]
        }
      ],
      "source": [
        "from langchain.prompts import PromptTemplate\n",
        "\n",
        "prompt_template = \"\"\"As a reporter who stays abreast with AI trends,\n",
        "you should answer user inquiries based on the context provided and avoid making up answers.\n",
        "If you don't know the answer, simply state that you don't know.\n",
        "\n",
        "{context}\n",
        "\n",
        "Question: {question}\"\"\"\n",
        "\n",
        "PROMPT = PromptTemplate(\n",
        "    template=prompt_template, input_variables=[\"context\", \"question\"]\n",
        ")\n",
        "\n",
        "qa = RetrievalQA.from_chain_type(\n",
        "    llm=llm,\n",
        "    chain_type=\"stuff\",\n",
        "    retriever=db.as_retriever(),\n",
        "    chain_type_kwargs={\"prompt\": PROMPT},\n",
        ")\n",
        "\n",
        "# Finally, let's ask questions!\n",
        "query = \"Can AI make art?\"\n",
        "print(qa.run(query))"
      ]
    },
    {
      "attachments": {},
      "cell_type": "markdown",
      "metadata": {},
      "source": [
        "🙌There you have it, your first LLM app is finished with fewer than 100 lines of code!\n",
        "\n",
        "But don't stop here, make your own changes or try to add more components. There are many pieces we haven't touched upon:\n",
        "- Try more open-source models from Hugging Face \n",
        "- Check out [agent](https://python.langchain.com/docs/modules/agents/), which can enable your LLM app to \"take action\"\n",
        "- Try different data types other than csv files\n",
        "- Try to host this app on either [Streamlit](https://streamlit.io) or [Steamship](https://steamship.com), create engaging UI/UX for it.\n",
        "\n",
        "Let us know what you make!"
      ]
    },
    {
      "attachments": {},
      "cell_type": "markdown",
      "metadata": {
        "id": "dvyTs6HtU9AF"
      },
      "source": []
    }
  ],
  "metadata": {
    "colab": {
      "provenance": []
    },
    "kernelspec": {
      "display_name": "Python 3",
      "name": "python3"
    },
    "language_info": {
      "name": "python"
    }
  },
  "nbformat": 4,
  "nbformat_minor": 0
}
