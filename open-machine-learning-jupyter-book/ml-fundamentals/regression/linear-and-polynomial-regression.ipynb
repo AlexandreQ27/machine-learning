{
 "cells": [
  {
   "cell_type": "code",
   "execution_count": null,
   "id": "5bf19128-f39c-43ce-8503-9eff8df18434",
   "metadata": {
    "slideshow": {
     "slide_type": ""
    },
    "tags": [
     "hide-cell"
    ]
   },
   "outputs": [],
   "source": [
    "# Install the necessary dependencies\n",
    "\n",
    "import os\n",
    "import sys\n",
    "!{sys.executable} -m pip install --quiet pandas scikit-learn numpy matplotlib jupyterlab_myst ipython\n"
   ]
  },
  {
   "cell_type": "markdown",
   "id": "cb578cb6-9845-4eb3-94ab-51c5e677031a",
   "metadata": {
    "slideshow": {
     "slide_type": "skip"
    },
    "tags": [
     "remove-cell"
    ]
   },
   "source": [
    "---\n",
    "license:\n",
    "    code: MIT\n",
    "    content: CC-BY-4.0\n",
    "github: https://github.com/ocademy-ai/machine-learning\n",
    "venue: By Ocademy\n",
    "open_access: true\n",
    "bibliography:\n",
    "  - https://raw.githubusercontent.com/ocademy-ai/machine-learning/main/open-machine-learning-jupyter-book/references.bib\n",
    "---"
   ]
  },
  {
   "cell_type": "markdown",
   "id": "663dea79",
   "metadata": {
    "slideshow": {
     "slide_type": ""
    },
    "tags": []
   },
   "source": [
    "# Linear and polynomial regression\n",
    "\n",
    ":::{figure} https://static-1300131294.cos.ap-shanghai.myqcloud.com/images/ml-regression/linear-polynomial.png\n",
    "---\n",
    "name: 'Linear vs polynomial regression infographic'\n",
    "width: 100%\n",
    "---\n",
    "Infographic by [Dasani Madipalli](https://twitter.com/dasani_decoded)\n",
    ":::"
   ]
  },
  {
   "cell_type": "markdown",
   "id": "ed080429-60c9-4f56-a3b5-7f3c533ec961",
   "metadata": {
    "slideshow": {
     "slide_type": ""
    },
    "tags": []
   },
   "source": [
    "```{seealso}\n",
    "Run the notebook accompanying this lesson and look at the Month to Price scatterplot. Does the data associating Month to Price for pumpkin sales seem to have high or low correlation, according to your visual interpretation of the scatterplot? Does that change if you use more fine-grained measure instead of `Month`, eg. *day of the year* (i.e. number of days since the beginning of the year)?\n",
    "```"
   ]
  },
  {
   "cell_type": "markdown",
   "id": "d0525b63-aae3-492a-b251-8131622648d0",
   "metadata": {
    "slideshow": {
     "slide_type": ""
    },
    "tags": []
   },
   "source": [
    "## Build a regression model using Scikit-learn: regression four ways"
   ]
  },
  {
   "cell_type": "code",
   "execution_count": null,
   "id": "f3a0efe9-db96-4df7-a495-7d25504f6828",
   "metadata": {
    "slideshow": {
     "slide_type": ""
    },
    "tags": [
     "hide-input"
    ]
   },
   "outputs": [],
   "source": [
    "from IPython.display import HTML\n",
    "\n",
    "display(\n",
    "    HTML(\n",
    "        \"\"\"\n",
    "<p style=\"text-align: center;\">\n",
    "<iframe src=\"https://static-1300131294.cos.ap-shanghai.myqcloud.com/html/linr-playground/index.html\" width=\"105%\" height=\"800px;\"\n",
    "style=\"border:none;\" scrolling=\"auto\"></iframe>\n",
    "A demo of linear-regression. <a href=\"https://observablehq.com/@yizhe-ang/interactive-visualization-of-linear-regression\"> [source]</a>\n",
    "</p>\n",
    "\"\"\"\n",
    "    )\n",
    ")"
   ]
  },
  {
   "cell_type": "code",
   "execution_count": null,
   "id": "28b44e74",
   "metadata": {},
   "outputs": [],
   "source": [
    "from IPython.display import HTML\n",
    "\n",
    "display(\n",
    "    HTML(\n",
    "        \"\"\"\n",
    "<p style=\"text-align: center;\">\n",
    "<iframe src=\"https://static-1300131294.cos.ap-shanghai.myqcloud.com/html/gradient-3D-demo/gradient_react_3D.html\" width=\"105%\" height=\"800px;\"\n",
    "style=\"border:none;\" scrolling=\"auto\"></iframe>\n",
    "A demo of gradient_react_3D. <a href=\"https://ben-karr.github.io/react-3d-gradients/\"> [source]</a>\n",
    "<iframe src=\"https://static-1300131294.cos.ap-shanghai.myqcloud.com/html/gradient-descent-visualiser/gradient-descent.html\" width=\"105%\" height=\"800px;\"\n",
    "style=\"border:none;\" scrolling=\"auto\"></iframe>\n",
    "A demo of gradient-descent-visualiser. <a href=\"https://uclaacm.github.io/gradient-descent-visualiser/#playgroundn\"> [source]</a>\n",
    "</p>\n",
    "\"\"\"\n",
    "    )\n",
    ")"
   ]
  },
  {
   "cell_type": "markdown",
   "id": "d08017d2",
   "metadata": {
    "slideshow": {
     "slide_type": ""
    },
    "tags": []
   },
   "source": [
    "\n",
    "\n",
    "### Introduction\n",
    "\n",
    "So far you have explored what regression is with sample data gathered from the pumpkin pricing dataset that we will use throughout this lesson. You have also visualized it using Matplotlib.\n",
    "\n",
    "Now you are ready to dive deeper into regression for Machine Learning. While visualization allows you to make sense of data, the real power of Machine Learning comes from _training models_. Models are trained on historical data to automatically capture data dependencies, and they allow you to predict outcomes for new data, which the model has not seen before.\n",
    "\n",
    "In this lesson, you will learn more about two types of regression: _basic linear regression_ and _polynomial regression_, along with some of the math underlying these techniques. Those models will allow us to predict pumpkin prices depending on different input data.\n",
    "\n",
    ":::{note}\n",
    "Throughout this curriculum, we assume minimal knowledge of math, and seek to make it accessible for students coming from other fields, so watch for notes, callouts, diagrams, and other learning tools to aid in comprehension.\n",
    ":::\n",
    "\n",
    "### Prerequisite\n",
    "\n",
    "You should be familiar by now with the structure of the pumpkin data that we are examining. You can find it preloaded and pre-cleaned in this section's [linear and polynomial regression.ipynb](../../assignments/ml-fundamentals/linear-and-polynomial-regression.ipynb) file. In the file, the pumpkin price is displayed per bushel in a new data frame.  Make sure you can run these notebooks in kernels in Visual Studio Code.\n",
    "\n",
    "### Preparation\n",
    "\n",
    "As a reminder, you are loading this data so as to ask questions about it.\n",
    "\n",
    "- When is the best time to buy pumpkins? \n",
    "- What price can I expect of a case of miniature pumpkins?\n",
    "- Should I buy them in half-bushel baskets or by the 1 1/9 bushel box?\n",
    "Let's keep digging into this data.\n",
    "\n",
    "In the previous lesson, you created a Pandas data frame and populated it with part of the original dataset, standardizing the pricing by bushel. By doing that, however, you were only able to gather about 400 data points and only for the fall months.\n",
    "\n",
    "Take a look at the data that we preloaded in this lesson's accompanying notebook. The data is preloaded and an initial scatterplot is charted to show monthly data. Maybe we can get a little more detail about the nature of the data by cleaning it more.\n",
    "\n",
    "## A linear regression line\n",
    "\n",
    "As you learned in section 1, the goal of a linear regression exercise is to be able to plot a line to:\n",
    "\n",
    "- **Show variable relationships**. Show the relationship between variables\n",
    "- **Make predictions**. Make accurate predictions on where a new data point would fall in relationship to that line.\n",
    "\n",
    "It is typical of **Least-Squares Regression** to draw this type of line. The term 'least-squares' means that all the data points surrounding the regression line are squared and then added up. Ideally, that final sum is as small as possible, because we want a low number of errors or `least-squares``.\n",
    "\n",
    "We do so since we want to model a line that has the least cumulative distance from all of our data points. We also square the terms before adding them since we are concerned with their magnitude rather than their direction.\n",
    "\n",
    ":::{seealso}\n",
    "**Show me the math** \n",
    " \n",
    "This line, called the _line of best fit_ can be expressed by [an equation](https://en.wikipedia.org/wiki/Simple_linear_regression):  \n",
    "\n",
    "> ```\n",
    "> Y = a + bX\n",
    "> ```\n",
    "\n",
    "`X` is the 'explanatory variable'. `Y` is the 'dependent variable'. The slope of the line is `b` and `a` is the y-intercept, which refers to the value of `Y` when `X = 0`. \n",
    "\n",
    ">:::{figure} https://static-1300131294.cos.ap-shanghai.myqcloud.com/images/ml-regression/slope.png\n",
    ">---\n",
    ">name: 'calculate the slope'\n",
    ">width: 60%\n",
    ">---\n",
    ">Infographic by [Jen Looper](https://twitter.com/jenlooper)\n",
    ">:::\n",
    "\n",
    "First, calculate the slope `b`.\n",
    "\n",
    "In other words, and referring to our pumpkin data's original question: \"predict the price of a pumpkin per bushel by month\", `X` would refer to the price and `Y` would refer to the month of sale.\n",
    "\n",
    ">:::{figure} https://static-1300131294.cos.ap-shanghai.myqcloud.com/images/ml-regression/calculation.png\n",
    ">---\n",
    ">name: 'complete the equation'\n",
    ">width: 60%\n",
    ">---\n",
    ">Infographic by [Jen Looper](https://twitter.com/jenlooper)\n",
    ">:::\n",
    "\n",
    "Calculate the value of Y. If you're paying around $4, it must be April!\n",
    "\n",
    "The math that calculates the line must demonstrate the slope of the line, which is also dependent on the intercept, or where `Y` is situated when `X = 0`.\n",
    "\n",
    "You can observe the method of calculation for these values on the [Math is Fun](https://www.mathsisfun.com/data/least-squares-regression.html) website. Also, visit [this Least-squares calculator](https://www.mathsisfun.com/data/least-squares-calculator.html) to watch how the numbers' values impact the line.\n",
    ":::\n",
    "\n",
    "## Correlation\n",
    "\n",
    "One more term to understand is the **Correlation Coefficient** between given X and Y variables. Using a scatterplot, you can quickly visualize this coefficient. A plot with data points scattered in a neat line has a high correlation, but a plot with data points scattered everywhere between X and Y has a low correlation.\n",
    "\n",
    "A good linear regression model will be one that has a high (nearer to 1 than 0) Correlation Coefficient using the Least-Squares Regression method with a line of regression.\n",
    "\n",
    ":::{seealso}\n",
    "Run the notebook accompanying this lesson and look at the Month to Price scatterplot. Does the data associating Month to Price for pumpkin sales seem to have a high or low correlation, according to your visual interpretation of the scatterplot? Does that change if you use a more fine-grained measure instead of `Month`, eg. *day of the year* (i.e. number of days since the beginning of the year)?\n",
    ":::\n",
    "\n",
    "In the code below, we will assume that we have cleaned up the data, and obtained a data frame called `new_pumpkins`, similar to the following:"
   ]
  },
  {
   "cell_type": "code",
   "execution_count": null,
   "id": "93a478b1",
   "metadata": {
    "attributes": {
     "classes": [
      "code-cell"
     ],
     "id": ""
    },
    "slideshow": {
     "slide_type": ""
    },
    "tags": [
     "output_scroll"
    ]
   },
   "outputs": [],
   "source": [
    "import pandas as pd\n",
    "import matplotlib.pyplot as plt\n",
    "import numpy as np\n",
    "from datetime import datetime\n",
    "\n",
    "pumpkins = pd.read_csv(\n",
    "    \"https://static-1300131294.cos.accelerate.myqcloud.com/data/us-pumpkins.csv\"\n",
    ")\n",
    "\n",
    "pumpkins.head()"
   ]
  },
  {
   "cell_type": "code",
   "execution_count": null,
   "id": "351f7c01",
   "metadata": {
    "attributes": {
     "classes": [
      "code-cell"
     ],
     "id": ""
    },
    "slideshow": {
     "slide_type": ""
    },
    "tags": []
   },
   "outputs": [],
   "source": [
    "pumpkins = pumpkins[pumpkins[\"Package\"].str.contains(\"bushel\", case=True, regex=True)]\n",
    "\n",
    "new_columns = [\n",
    "    \"Package\",\n",
    "    \"Variety\",\n",
    "    \"City Name\",\n",
    "    \"Month\",\n",
    "    \"Low Price\",\n",
    "    \"High Price\",\n",
    "    \"Date\",\n",
    "]\n",
    "pumpkins = pumpkins.drop([c for c in pumpkins.columns if c not in new_columns], axis=1)\n",
    "\n",
    "price = (pumpkins[\"Low Price\"] + pumpkins[\"High Price\"]) / 2\n",
    "\n",
    "month = pd.DatetimeIndex(pumpkins[\"Date\"]).month\n",
    "day_of_year = pd.to_datetime(pumpkins[\"Date\"]).apply(\n",
    "    lambda dt: (dt - datetime(dt.year, 1, 1)).days\n",
    ")\n",
    "\n",
    "new_pumpkins = pd.DataFrame(\n",
    "    {\n",
    "        \"Month\": month,\n",
    "        \"DayOfYear\": day_of_year,\n",
    "        \"Variety\": pumpkins[\"Variety\"],\n",
    "        \"City\": pumpkins[\"City Name\"],\n",
    "        \"Package\": pumpkins[\"Package\"],\n",
    "        \"Low Price\": pumpkins[\"Low Price\"],\n",
    "        \"High Price\": pumpkins[\"High Price\"],\n",
    "        \"Price\": price,\n",
    "    }\n",
    ")\n",
    "\n",
    "new_pumpkins.loc[new_pumpkins[\"Package\"].str.contains(\"1 1/9\"), \"Price\"] = price / 1.1\n",
    "new_pumpkins.loc[new_pumpkins[\"Package\"].str.contains(\"1/2\"), \"Price\"] = price * 2\n",
    "\n",
    "new_pumpkins.head()"
   ]
  },
  {
   "cell_type": "markdown",
   "id": "75dff0fd",
   "metadata": {
    "slideshow": {
     "slide_type": ""
    },
    "tags": []
   },
   "source": [
    "A basic scatterplot reminds us that we only have monthly data from August through December. We probably need more data to be able to draw conclusions in a linear fashion."
   ]
  },
  {
   "cell_type": "code",
   "execution_count": null,
   "id": "62162c46",
   "metadata": {
    "attributes": {
     "classes": [
      "code-cell"
     ],
     "id": ""
    },
    "slideshow": {
     "slide_type": ""
    },
    "tags": []
   },
   "outputs": [],
   "source": [
    "plt.scatter(\"Month\", \"Price\", data=new_pumpkins)"
   ]
  },
  {
   "cell_type": "markdown",
   "id": "025f014e",
   "metadata": {
    "slideshow": {
     "slide_type": ""
    },
    "tags": []
   },
   "source": [
    ":::{note}\n",
    "We have performed the same cleaning steps as in the previous section, and have calculated `DayOfYear` column using the following expression: \n",
    ":::"
   ]
  },
  {
   "cell_type": "code",
   "execution_count": null,
   "id": "bc1d5493",
   "metadata": {
    "attributes": {
     "classes": [
      "code-cell"
     ],
     "id": ""
    },
    "slideshow": {
     "slide_type": ""
    },
    "tags": []
   },
   "outputs": [],
   "source": [
    "day_of_year = pd.to_datetime(pumpkins[\"Date\"]).apply(\n",
    "    lambda dt: (dt - datetime(dt.year, 1, 1)).days\n",
    ")"
   ]
  },
  {
   "cell_type": "markdown",
   "id": "83b08051",
   "metadata": {
    "slideshow": {
     "slide_type": ""
    },
    "tags": []
   },
   "source": [
    "Now that you have an understanding of the math behind linear regression, let's create a Regression model to see if we can predict which package of pumpkins will have the best pumpkin prices. Someone buying pumpkins for a holiday pumpkin patch might want this information to be able to optimize their purchases of pumpkin packages for the patch.\n",
    "\n",
    "## Looking for Correlation\n",
    "\n",
    "From the previous section, you have probably seen that the average price for different months looks like this:\n",
    "\n",
    ":::{figure} https://static-1300131294.cos.ap-shanghai.myqcloud.com/images/ml-regression/barchart.png\n",
    "---\n",
    "name: 'Average price by month'\n",
    "width: 70%\n",
    "---\n",
    "Average price by month{cite}`Average_price_by_month`\n",
    ":::\n",
    "\n",
    "This suggests that there should be some correlation, and we can try training a linear regression model to predict the relationship between `Month` and `Price`, or between `DayOfYear` and `Price`. Here is the scatter plot that shows the latter relationship:\n",
    "\n",
    ":::{figure} https://static-1300131294.cos.ap-shanghai.myqcloud.com/images/ml-regression/scatter-dayofyear.png\n",
    "---\n",
    "name: 'Scatter plot of Price vs. Day of Year'\n",
    "width: 70%\n",
    "---\n",
    "Scatter plot of Price vs. Day of Year{cite}`Scatter_plot_of_Price_vs._Day_of_Year`\n",
    ":::\n",
    "\n",
    "It looks like there are different clusters of prices corresponding to different pumpkin varieties. To confirm this hypothesis, let's plot each pumpkin category using a different color. By passing an `ax` parameter to the `scatter` plotting function we can plot all points on the same graph:"
   ]
  },
  {
   "cell_type": "code",
   "execution_count": null,
   "id": "9864740b",
   "metadata": {
    "attributes": {
     "classes": [
      "code-cell"
     ],
     "id": ""
    },
    "slideshow": {
     "slide_type": ""
    },
    "tags": []
   },
   "outputs": [],
   "source": [
    "ax = None\n",
    "colors = [\"red\", \"blue\", \"green\", \"yellow\"]\n",
    "for i, var in enumerate(new_pumpkins[\"Variety\"].unique()):\n",
    "    df = new_pumpkins[new_pumpkins[\"Variety\"] == var]\n",
    "    ax = df.plot.scatter(\"DayOfYear\", \"Price\", ax=ax, c=colors[i], label=var)"
   ]
  },
  {
   "cell_type": "markdown",
   "id": "f6bb5fa9",
   "metadata": {
    "slideshow": {
     "slide_type": ""
    },
    "tags": []
   },
   "source": [
    "Our investigation suggests that variety has more effect on the overall price than the actual selling date. So let us focus for the moment only on one pumpkin variety, and see what effect the date has on the price:"
   ]
  },
  {
   "cell_type": "code",
   "execution_count": null,
   "id": "115f94ab",
   "metadata": {
    "attributes": {
     "classes": [
      "code-cell"
     ],
     "id": ""
    },
    "slideshow": {
     "slide_type": ""
    },
    "tags": []
   },
   "outputs": [],
   "source": [
    "pie_pumpkins = new_pumpkins[new_pumpkins[\"Variety\"] == \"PIE TYPE\"]\n",
    "pie_pumpkins.plot.scatter(\"DayOfYear\", \"Price\")"
   ]
  },
  {
   "cell_type": "markdown",
   "id": "2527b9e5",
   "metadata": {
    "slideshow": {
     "slide_type": ""
    },
    "tags": []
   },
   "source": [
    "If we now calculate the correlation between `Price` and `DayOfYear` using `corr` function, we will get something like `-0.27` - which means that training a predictive model makes sense.\n",
    "\n",
    ":::{note}\n",
    "Before training a linear regression model, it is important to make sure that our data is clean. Linear regression does not work well with missing values, thus it makes sense to get rid of all empty cells:\n",
    ":::"
   ]
  },
  {
   "cell_type": "code",
   "execution_count": null,
   "id": "242febdf",
   "metadata": {
    "attributes": {
     "classes": [
      "code-cell"
     ],
     "id": ""
    },
    "slideshow": {
     "slide_type": ""
    },
    "tags": []
   },
   "outputs": [],
   "source": [
    "pie_pumpkins.dropna(inplace=True)\n",
    "pie_pumpkins.info()"
   ]
  },
  {
   "cell_type": "markdown",
   "id": "92709a1f",
   "metadata": {
    "slideshow": {
     "slide_type": ""
    },
    "tags": []
   },
   "source": [
    "Another approach would be to fill those empty values with mean values from the corresponding column.\n",
    "\n",
    "## Simple Linear Regression\n",
    "\n",
    "To train our Linear Regression model, we will use the **Scikit-learn** library."
   ]
  },
  {
   "cell_type": "code",
   "execution_count": null,
   "id": "c3d17ae6",
   "metadata": {
    "attributes": {
     "classes": [
      "code-cell"
     ],
     "id": ""
    },
    "slideshow": {
     "slide_type": ""
    },
    "tags": []
   },
   "outputs": [],
   "source": [
    "from sklearn.linear_model import LinearRegression\n",
    "from sklearn.metrics import mean_squared_error\n",
    "from sklearn.model_selection import train_test_split"
   ]
  },
  {
   "cell_type": "markdown",
   "id": "02c3a570",
   "metadata": {
    "slideshow": {
     "slide_type": ""
    },
    "tags": []
   },
   "source": [
    "We start by separating input values (features) and the expected output (label) into separate NumPy arrays:"
   ]
  },
  {
   "cell_type": "code",
   "execution_count": null,
   "id": "8a96563a",
   "metadata": {
    "attributes": {
     "classes": [
      "code-cell"
     ],
     "id": ""
    },
    "slideshow": {
     "slide_type": ""
    },
    "tags": []
   },
   "outputs": [],
   "source": [
    "X = pie_pumpkins[\"DayOfYear\"].to_numpy().reshape(-1, 1)\n",
    "y = pie_pumpkins[\"Price\"]"
   ]
  },
  {
   "cell_type": "markdown",
   "id": "6bfab9bb",
   "metadata": {
    "slideshow": {
     "slide_type": ""
    },
    "tags": []
   },
   "source": [
    ":::{note}\n",
    "Note that we had to perform `reshape` on the input data in order for the Linear Regression package to understand it correctly. Linear Regression expects a 2D-array as an input, where each row of the array corresponds to a vector of input features. In our case, since we have only one input - we need an array with shape N&times;1, where N is the dataset size.\n",
    ":::\n",
    "\n",
    "Then, we need to split the data into train and test datasets, so that we can validate our model after training:"
   ]
  },
  {
   "cell_type": "code",
   "execution_count": null,
   "id": "63a5c90e",
   "metadata": {
    "attributes": {
     "classes": [
      "code-cell"
     ],
     "id": ""
    },
    "slideshow": {
     "slide_type": ""
    },
    "tags": []
   },
   "outputs": [],
   "source": [
    "X_train, X_test, y_train, y_test = train_test_split(X, y, test_size=0.2, random_state=0)"
   ]
  },
  {
   "cell_type": "markdown",
   "id": "975937b9",
   "metadata": {
    "slideshow": {
     "slide_type": ""
    },
    "tags": []
   },
   "source": [
    "Finally, training the actual Linear Regression model takes only two lines of code. We define the `LinearRegression` object, and fit it to our data using the `fit` method:"
   ]
  },
  {
   "cell_type": "code",
   "execution_count": null,
   "id": "cc303abf",
   "metadata": {
    "attributes": {
     "classes": [
      "code-cell"
     ],
     "id": ""
    },
    "slideshow": {
     "slide_type": ""
    },
    "tags": []
   },
   "outputs": [],
   "source": [
    "lin_reg = LinearRegression()\n",
    "lin_reg.fit(X_train, y_train)"
   ]
  },
  {
   "cell_type": "markdown",
   "id": "4c93426e",
   "metadata": {
    "slideshow": {
     "slide_type": ""
    },
    "tags": []
   },
   "source": [
    "The `LinearRegression` object after `fit`-ting contains all the coefficients of the regression, which can be accessed using `.coef_` property. In our case, there is just one coefficient, which should be around `-0.017`. It means that prices seem to drop a bit with time, but not too much, around 2 cents per day. We can also access the intersection point of the regression with the Y-axis using `lin_reg`.intercept_` - it will be around `21` in our case, indicating the price at the beginning of the year.\n",
    "\n",
    "To see how accurate our model is, we can predict prices on a test dataset, and then measure how close our predictions are to the expected values. This can be done using mean square error (MSE) metrics, which is the mean of all squared differences between expected and predicted values."
   ]
  },
  {
   "cell_type": "code",
   "execution_count": null,
   "id": "cd436fa3",
   "metadata": {
    "attributes": {
     "classes": [
      "code-cell"
     ],
     "id": ""
    },
    "slideshow": {
     "slide_type": ""
    },
    "tags": []
   },
   "outputs": [],
   "source": [
    "pred = lin_reg.predict(X_test)\n",
    "\n",
    "mse = np.sqrt(mean_squared_error(y_test, pred))\n",
    "print(f\"Mean error: {mse:3.3} ({mse/np.mean(pred)*100:3.3}%)\")"
   ]
  },
  {
   "cell_type": "markdown",
   "id": "43014d87",
   "metadata": {
    "slideshow": {
     "slide_type": ""
    },
    "tags": []
   },
   "source": [
    "Our error seems to be around 2 points, which is ~17%. Not too good. Another indicator of model quality is the **coefficient of determination**, which can be obtained like this:"
   ]
  },
  {
   "cell_type": "code",
   "execution_count": null,
   "id": "2803d5e1",
   "metadata": {
    "attributes": {
     "classes": [
      "code-cell"
     ],
     "id": ""
    },
    "slideshow": {
     "slide_type": ""
    },
    "tags": []
   },
   "outputs": [],
   "source": [
    "score = lin_reg.score(X_train, y_train)\n",
    "print(\"Model determination: \", score)"
   ]
  },
  {
   "cell_type": "markdown",
   "id": "d64ea140",
   "metadata": {
    "slideshow": {
     "slide_type": ""
    },
    "tags": []
   },
   "source": [
    "If the value is 0, it means that the model does not take input data into account, and acts as the *worst linear predictor*, which is simply a mean value of the result. The value of 1 means that we can perfectly predict all expected outputs. In our case, the coefficient is around 0.06, which is quite low.\n",
    "\n",
    "We can also plot the test data together with the regression line to better see how regression works in our case:"
   ]
  },
  {
   "cell_type": "code",
   "execution_count": null,
   "id": "337d38c5",
   "metadata": {
    "attributes": {
     "classes": [
      "code-cell"
     ],
     "id": ""
    },
    "slideshow": {
     "slide_type": ""
    },
    "tags": []
   },
   "outputs": [],
   "source": [
    "plt.scatter(X_test, y_test)\n",
    "plt.plot(X_test, pred)"
   ]
  },
  {
   "cell_type": "markdown",
   "id": "9f93331c",
   "metadata": {},
   "source": [
    "## Polynomial Regression"
   ]
  },
  {
   "cell_type": "markdown",
   "id": "7d7f9463",
   "metadata": {},
   "source": [
    "<p style=\"text-align: center;\">\n",
    "<iframe src=\"https://static-1300131294.cos.ap-shanghai.myqcloud.com/html/polynomial-regression-demo/simulation.html\" width=\"105%\" height=\"700px;\"\n",
    "style=\"border:none;\" scrolling=\"auto\"></iframe>\n",
    "A demo of logistic-regression. <a href=\"https://visualize-it.github.io/polynomial_regression/simulation.html\"> [source]</a >\n",
    "</p >"
   ]
  },
  {
   "cell_type": "markdown",
   "id": "c2831e2f",
   "metadata": {
    "slideshow": {
     "slide_type": ""
    },
    "tags": []
   },
   "source": [
    "Another type of Linear Regression is Polynomial Regression. While sometimes there's a linear relationship between variables - the bigger the pumpkin in volume, the higher the price - sometimes these relationships can't be plotted as a plane or straight line.\n",
    "\n",
    ":::{seealso}\n",
    "Here are [some more examples](https://online.stat.psu.edu/stat501/lesson/9/9.8) of data that could use Polynomial Regression\n",
    ":::\n",
    "\n",
    "Take another look at the relationship between Date and Price. Does this scatterplot seem like it should necessarily be analyzed by a straight line? Can't prices fluctuate? In this case, you can try polynomial regression.\n",
    "\n",
    ":::{note}\n",
    "Polynomials are mathematical expressions that might consist of one or more variables and coefficients.\n",
    ":::\n",
    "\n",
    "Polynomial regression creates a curved line to better fit nonlinear data. In our case, if we include a squared `DayOfYear` variable in input data, we should be able to fit our data with a parabolic curve, which will have a minimum at a certain point within the year.\n",
    "\n",
    "Scikit-learn includes a helpful [pipeline API](https://scikit-learn.org/stable/modules/generated/sklearn.pipeline.make_pipeline.html?highlight=pipeline#sklearn.pipeline.make_pipeline) to combine different steps of data processing together. A **pipeline** is a chain of **estimators**. In our case, we will create a pipeline that first adds polynomial features to our model, and then trains the regression:"
   ]
  },
  {
   "cell_type": "code",
   "execution_count": null,
   "id": "bf0c99b8",
   "metadata": {
    "attributes": {
     "classes": [
      "code-cell"
     ],
     "id": ""
    },
    "slideshow": {
     "slide_type": ""
    },
    "tags": []
   },
   "outputs": [],
   "source": [
    "from sklearn.preprocessing import PolynomialFeatures\n",
    "from sklearn.pipeline import make_pipeline\n",
    "\n",
    "pipeline = make_pipeline(PolynomialFeatures(2), LinearRegression())\n",
    "\n",
    "pipeline.fit(X_train, y_train)"
   ]
  },
  {
   "cell_type": "markdown",
   "id": "5181be18",
   "metadata": {
    "slideshow": {
     "slide_type": ""
    },
    "tags": []
   },
   "source": [
    "Using `PolynomialFeatures(2)` means that we will include all second-degree polynomials from the input data. In our case, it will just mean $DayOfYear^2$, but given two input variables X and Y, this will add $X^2$, XY and $Y^2$. We may also use higher-degree polynomials if we want.\n",
    "\n",
    "Pipelines can be used in the same manner as the original `LinearRegression` object, i.e. we can `fit` the pipeline, and then use `predict` to get the prediction results. Here is the graph showing test data, and the approximation curve:\n",
    "\n",
    ":::{figure} https://static-1300131294.cos.ap-shanghai.myqcloud.com/images/ml-regression/poly-results.png\n",
    "---\n",
    "name: 'Polynomial regression'\n",
    "width: 70%\n",
    "---\n",
    "Polynomial regression{cite}`Polynomial_regression`\n",
    ":::\n",
    "\n",
    "Using Polynomial Regression, we can get slightly lower MSE and higher determination, but not significantly. We need to take into account other features!\n",
    "\n",
    ":::{seealso}\n",
    "You can see that the minimal pumpkin prices are observed somewhere around Halloween. How can you explain this? \n",
    ":::\n",
    "\n",
    "🎃 Congratulations, you just created a model that can help predict the price of pie pumpkins. You can probably repeat the same procedure for all pumpkin types, but that would be tedious. Let's learn now how to take pumpkin variety into account in our model!\n",
    "\n",
    "## Categorical Features\n",
    "\n",
    "In the ideal world, we want to be able to predict prices for different pumpkin varieties using the same model. However, the `Variety` column is somewhat different from columns like `Month`, because it contains non-numeric values. Such columns are called **categorical**.\n",
    "\n",
    "Here you can see how the average price depends on variety:\n",
    "\n",
    ":::{figure} https://static-1300131294.cos.ap-shanghai.myqcloud.com/images/ml-regression/price-by-variety.png\n",
    "---\n",
    "name: 'Average price by variety'\n",
    "width: 70%\n",
    "---\n",
    "Average price by variety{cite}`Average_price_by_variety`\n",
    ":::\n",
    "\n",
    "To take variety into account, we first need to convert it to numeric form or **encode**** it. There are several ways we can do it:\n",
    "\n",
    "* Simple **numeric encoding** will build a table of different varieties, and then replace the variety name by an index in that table. This is not the best idea for linear regression, because linear regression takes the actual numeric value of the index, and adds it to the result, multiplying by some coefficient. In our case, the relationship between the index number and the price is clearly non-linear, even if we make sure that indices are ordered in some specific way.\n",
    "* **One-hot encoding** will replace the `Variety` column by 4 different columns, one for each variety. Each column will contain `1` if the corresponding row is of a given variety and `0`` otherwise. This means that there will be four coefficients in linear regression, one for each pumpkin variety, responsible for the \"starting price\" (or rather \"additional price\") for that particular variety.\n",
    "\n",
    "The code below shows how we can one-hot encode a variety:"
   ]
  },
  {
   "cell_type": "code",
   "execution_count": null,
   "id": "246bfdd0",
   "metadata": {
    "attributes": {
     "classes": [
      "code-cell"
     ],
     "id": ""
    },
    "slideshow": {
     "slide_type": ""
    },
    "tags": []
   },
   "outputs": [],
   "source": [
    "pd.get_dummies(new_pumpkins[\"Variety\"])"
   ]
  },
  {
   "cell_type": "markdown",
   "id": "968fa4ea",
   "metadata": {
    "slideshow": {
     "slide_type": ""
    },
    "tags": []
   },
   "source": [
    "To train linear regression using one-hot encoded variety as input, we just need to initialize `X` and `y` data correctly:"
   ]
  },
  {
   "cell_type": "code",
   "execution_count": null,
   "id": "f0bc3720",
   "metadata": {
    "attributes": {
     "classes": [
      "code-cell"
     ],
     "id": ""
    },
    "slideshow": {
     "slide_type": ""
    },
    "tags": []
   },
   "outputs": [],
   "source": [
    "X = pd.get_dummies(new_pumpkins[\"Variety\"])\n",
    "y = new_pumpkins[\"Price\"]"
   ]
  },
  {
   "cell_type": "markdown",
   "id": "cc63ccc2",
   "metadata": {
    "slideshow": {
     "slide_type": ""
    },
    "tags": []
   },
   "source": [
    "The rest of the code is the same as what we used above to train Linear Regression. If you try it, you will see that the mean squared error is about the same, but we get the much higher coefficient of determination (~77%). To get even more accurate predictions, we can take more categorical features into account, as well as numeric features, such as `Month` or `DayOfYear`. To get one large array of features, we can use `join`:"
   ]
  },
  {
   "cell_type": "code",
   "execution_count": null,
   "id": "6fd52a7f",
   "metadata": {
    "attributes": {
     "classes": [
      "code-cell"
     ],
     "id": ""
    },
    "slideshow": {
     "slide_type": ""
    },
    "tags": []
   },
   "outputs": [],
   "source": [
    "X = (\n",
    "    pd.get_dummies(new_pumpkins[\"Variety\"])\n",
    "    .join(new_pumpkins[\"Month\"])\n",
    "    .join(pd.get_dummies(new_pumpkins[\"City\"]))\n",
    "    .join(pd.get_dummies(new_pumpkins[\"Package\"]))\n",
    ")\n",
    "y = new_pumpkins[\"Price\"]"
   ]
  },
  {
   "cell_type": "markdown",
   "id": "e113e574",
   "metadata": {
    "slideshow": {
     "slide_type": ""
    },
    "tags": []
   },
   "source": [
    "Here we also take into account `City` and `Package` type, which gives us MSE 2.84 (10%), and determination 0.94!\n",
    "\n",
    "## Putting it all together\n",
    "\n",
    "To make the best model, we can use combined (one-hot encoded categorical + numeric) data from the above example together with Polynomial Regression. Here is the complete code for your convenience:"
   ]
  },
  {
   "cell_type": "code",
   "execution_count": null,
   "id": "fffe46b9",
   "metadata": {
    "attributes": {
     "classes": [
      "code-cell"
     ],
     "id": ""
    },
    "slideshow": {
     "slide_type": ""
    },
    "tags": []
   },
   "outputs": [],
   "source": [
    "# set up training data\n",
    "X = (\n",
    "    pd.get_dummies(new_pumpkins[\"Variety\"])\n",
    "    .join(new_pumpkins[\"Month\"])\n",
    "    .join(pd.get_dummies(new_pumpkins[\"City\"]))\n",
    "    .join(pd.get_dummies(new_pumpkins[\"Package\"]))\n",
    ")\n",
    "y = new_pumpkins[\"Price\"]\n",
    "\n",
    "# make train-test split\n",
    "X_train, X_test, y_train, y_test = train_test_split(X, y, test_size=0.2, random_state=0)\n",
    "\n",
    "# setup and train the pipeline\n",
    "pipeline = make_pipeline(PolynomialFeatures(2), LinearRegression())\n",
    "pipeline.fit(X_train, y_train)\n",
    "\n",
    "# predict results for test data\n",
    "pred = pipeline.predict(X_test)\n",
    "\n",
    "# calculate MSE and determination\n",
    "mse = np.sqrt(mean_squared_error(y_test, pred))\n",
    "print(f\"Mean error: {mse:3.3} ({mse/np.mean(pred)*100:3.3}%)\")\n",
    "\n",
    "score = pipeline.score(X_train, y_train)\n",
    "print(\"Model determination: \", score)"
   ]
  },
  {
   "cell_type": "markdown",
   "id": "28aa766b",
   "metadata": {
    "slideshow": {
     "slide_type": ""
    },
    "tags": []
   },
   "source": [
    "This should give us the best determination coefficient of almost 97%, and MSE=2.23 (~8% prediction error).\n",
    "\n",
    "| Model | MSE | Determination |\n",
    "|-------|-----|---------------|\n",
    "| `DayOfYear` Linear | 2.77 (17.2%) | 0.07 |\n",
    "| `DayOfYear` Polynomial | 2.73 (17.0%) | 0.08 |\n",
    "| `Variety` Linear | 5.24 (19.7%) | 0.77 |\n",
    "| All features Linear | 2.84 (10.5%) | 0.94 |\n",
    "| All features Polynomial | 2.23 (8.25%) | 0.97 |\n",
    "\n",
    "🏆 Well done! You created four Regression models in one section and improved the model quality to 97%. In the final section on Regression, you will learn about Logistic Regression to determine categories.\n",
    "\n",
    "## Self study\n",
    "\n",
    "In this section, we learned about Linear Regression. There are other important types of Regression. Read about Stepwise, Ridge, Lasso and Elasticnet techniques. A good course to study to learn more is the [Stanford Statistical Learning course](https://online.stanford.edu/courses/sohs-ystatslearning-statistical-learning)\n",
    "\n",
    "## Your turn! 🚀\n",
    "\n",
    "Test several different variables in this notebook to see how correlation corresponds to model accuracy.\n",
    "\n",
    "Assignment - [Create a regression model](../../assignments/ml-fundamentals/create-a-regression-model.md)\n",
    "\n",
    "## Acknowledgments\n",
    "\n",
    "Thanks to Microsoft for creating the open-source course [ML-For-Beginners](https://github.com/microsoft/ML-For-Beginners). It inspires the majority of the content in this chapter.\n",
    "\n",
    "---\n",
    "\n",
    ":::{bibliography}\n",
    ":filter: docname in docnames\n",
    ":::"
   ]
  }
 ],
 "metadata": {
  "kernelspec": {
   "display_name": "Python 3 (ipykernel)",
   "language": "python",
   "name": "python3"
  },
  "language_info": {
   "codemirror_mode": {
    "name": "ipython",
    "version": 3
   },
   "file_extension": ".py",
   "mimetype": "text/x-python",
   "name": "python",
   "nbconvert_exporter": "python",
   "pygments_lexer": "ipython3",
   "version": "3.9.16"
  },
  "toc": {
   "base_numbering": 1,
   "nav_menu": {},
   "number_sections": true,
   "sideBar": true,
   "skip_h1_title": false,
   "title_cell": "Table of Contents",
   "title_sidebar": "Contents",
   "toc_cell": false,
   "toc_position": {},
   "toc_section_display": true,
   "toc_window_display": false
  }
 },
 "nbformat": 4,
 "nbformat_minor": 5
}
