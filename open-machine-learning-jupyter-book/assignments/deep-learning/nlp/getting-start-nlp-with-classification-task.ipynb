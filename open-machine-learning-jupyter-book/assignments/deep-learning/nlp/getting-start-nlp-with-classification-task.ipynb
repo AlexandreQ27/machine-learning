{
 "cells": [
  {
   "cell_type": "markdown",
   "id": "6e14052d-5eec-449a-b6d5-bcc100456aba",
   "metadata": {
    "jp-MarkdownHeadingCollapsed": true
   },
   "source": [
    "# Getting Start NLP with classification task"
   ]
  },
  {
   "cell_type": "markdown",
   "id": "259d0ecc-b734-44ef-b989-49a6e127a944",
   "metadata": {},
   "source": [
    "One area where deep learning has dramatically improved in the last couple of years is natural language processing (NLP). Computers can now generate text, translate automatically from one language to another, analyze comments, label words in sentences, and much more.\n",
    "\n",
    "Perhaps the most widely practically useful application of NLP is classification -- that is, classifying a document automatically into some category. This can be used, for instance, for:\n",
    "\n",
    "- Sentiment analysis (e.g are people saying positive or negative things about your product)\n",
    "- Author identification (what author most likely wrote some document)\n",
    "- Legal discovery (which documents are in scope for a trial)\n",
    "- Organizing documents by topic\n",
    "- Triaging inbound emails\n",
    "- ...and much more!\n",
    "\n",
    "Today, we are tasked with comparing two words or short phrases, and scoring them based on whether they're similar or not, based on which patent class they were used in. With a score of 1 it is considered that the two inputs have identical meaning, and 0 means they have totally different meaning. For instance, abatement and eliminating process have a score of 0.5, meaning they're somewhat similar, but not identical.\n",
    "\n",
    "It turns out that this can be represented as a classification problem. How? By representing the question like this:\n",
    "\n",
    "> For the following text...: \"TEXT1: abatement; TEXT2: eliminating process\" ...chose a category of meaning similarity: \"Different; Similar; Identical\".\n",
    "\n",
    "In this assignment section we'll see how to solve the Patent Phrase Matching problem by treating it as a classification task, by representing it in a very similar way to that shown above."
   ]
  },
  {
   "cell_type": "markdown",
   "id": "12389d2f-c08d-4941-a759-d8bbd8fa44ba",
   "metadata": {},
   "source": [
    "## Import and EDA"
   ]
  },
  {
   "cell_type": "code",
   "execution_count": null,
   "id": "4e4e3c06-4292-40a7-bb1a-66207159c604",
   "metadata": {},
   "outputs": [],
   "source": [
    "import pandas as pd\n",
    "import numpy as np\n",
    "from datasets import Dataset,DatasetDict\n",
    "from transformers import AutoModelForSequenceClassification, AutoTokenizer, TrainingArguments, Trainer\n",
    "import warnings\n",
    "\n",
    "warnings.filterwarnings(\"ignore\")"
   ]
  },
  {
   "cell_type": "markdown",
   "id": "f3085076-3dbc-4eab-941c-9c7e2a4b740e",
   "metadata": {},
   "source": [
    "First of all, let's import the dataset."
   ]
  },
  {
   "cell_type": "code",
   "execution_count": null,
   "id": "cbd450f6-31dd-46c9-918e-e0f3984d1436",
   "metadata": {},
   "outputs": [],
   "source": [
    "df = pd.read_csv('https://static-1300131294.cos.ap-shanghai.myqcloud.com/data/deep-learning/nlp/phrase_matching_train.csv')\n",
    "df"
   ]
  },
  {
   "cell_type": "markdown",
   "id": "8c3283b2-2a18-447f-8400-f6d6efc95f4d",
   "metadata": {},
   "source": [
    "As you see, there are 5 columns, where **anchor** and **target** are a pair phrases, **context** is the common context they are in, **score** is the similarity score of anchor and target."
   ]
  },
  {
   "cell_type": "code",
   "execution_count": null,
   "id": "69b58088-6d15-4b11-85dd-bf5b86d9df64",
   "metadata": {},
   "outputs": [],
   "source": [
    "df.describe(include='object')"
   ]
  },
  {
   "cell_type": "markdown",
   "id": "00f5b5c7-bcb7-4bf0-875e-45fbf8a2ba65",
   "metadata": {},
   "source": [
    "We can see that in the 36473 rows, there are 733 unique anchors, 106 contexts, and nearly 30000 targets. Some anchors are very common, with \"component composite coating\" for instance appearing 152 times.\n",
    "\n",
    "Earlier, I suggested we could represent the input to the model as something like \"TEXT1: abatement; TEXT2: eliminating process\". We'll need to add the context to this too. In Pandas, we just use + to concatenate, like so:"
   ]
  },
  {
   "cell_type": "code",
   "execution_count": null,
   "id": "a89091d6-771a-4b7e-a540-b20d6f03e9aa",
   "metadata": {},
   "outputs": [],
   "source": [
    "df['input'] = 'TEXT1: ' + df.context + '; TEXT2: ' + df.target + '; ANC1: ' + df.anchor\n",
    "df.head(5)"
   ]
  },
  {
   "cell_type": "markdown",
   "id": "0fc9e71f-aed8-40b0-821d-c352331f4a89",
   "metadata": {},
   "source": [
    "## Tokenization"
   ]
  },
  {
   "cell_type": "markdown",
   "id": "0d9c20bb-a146-497b-a503-edfc6372c084",
   "metadata": {},
   "source": [
    "Transformers uses a `Dataset` object for storing their dataset, of course! We can create one like so:"
   ]
  },
  {
   "cell_type": "code",
   "execution_count": null,
   "id": "a3dcc05b-e170-43ed-92f5-8805d3dbac7f",
   "metadata": {},
   "outputs": [],
   "source": [
    "ds = Dataset.from_pandas(df)\n",
    "ds"
   ]
  },
  {
   "cell_type": "markdown",
   "id": "107fe0be-b9a4-4c30-a141-41fcfb3beab4",
   "metadata": {},
   "source": [
    "But we can't pass the texts directly into a model. A deep learning model expects numbers as inputs, not English sentences! So we need to do two things:\n",
    "\n",
    "- Tokenization: Split each text up into words (or actually, as we'll see, into tokens)\n",
    "- Numericalization: Convert each word (or token) into a number.\n",
    "\n",
    "The details about how this is done actually depend on the particular model we use. So first we'll need to pick a model. There are thousands of models available, but a reasonable starting point for nearly any NLP problem is to use this (replace \"small\" with \"large\" for a slower but more accurate model, once you've finished exploring):"
   ]
  },
  {
   "cell_type": "code",
   "execution_count": null,
   "id": "9bd4fdd3-f881-486b-9d75-ccbb6286b525",
   "metadata": {},
   "outputs": [],
   "source": [
    "model_nm = 'deberta-v3-small'"
   ]
  },
  {
   "cell_type": "markdown",
   "id": "3f60c3b5-a0a5-4dd5-b512-549cb4242579",
   "metadata": {},
   "source": [
    "`AutoTokenizer` will create a tokenizer appropriate for a given model:"
   ]
  },
  {
   "cell_type": "code",
   "execution_count": null,
   "id": "96aca66f-0663-4dfd-97f6-169f8a0fcb1d",
   "metadata": {},
   "outputs": [],
   "source": [
    "tokz = AutoTokenizer.from_pretrained(model_nm)"
   ]
  },
  {
   "cell_type": "markdown",
   "id": "5335cfec-7a71-481a-8c18-e934a90194ad",
   "metadata": {},
   "source": [
    "Here's an example of how the tokenizer splits a text into \"tokens\" (which are like words, but can be sub-word pieces, as you see below):"
   ]
  },
  {
   "cell_type": "code",
   "execution_count": null,
   "id": "6fd61beb-a5a8-4f89-9659-8470faf62fb4",
   "metadata": {},
   "outputs": [],
   "source": [
    "tokz.tokenize(\"G'day folks, I'm Jeremy from fast.ai!\")"
   ]
  },
  {
   "cell_type": "markdown",
   "id": "0a2a6a56-2e10-403a-9533-b65afb974425",
   "metadata": {},
   "source": [
    "Uncommon words will be split into pieces just like `ornithorhynchus`. The start of a new word is represented by `▁`:"
   ]
  },
  {
   "cell_type": "code",
   "execution_count": null,
   "id": "92e0189f-c8f1-405f-83fb-bd01c483710c",
   "metadata": {},
   "outputs": [],
   "source": [
    "tokz.tokenize(\"A platypus is an ornithorhynchus anatinus.\")"
   ]
  },
  {
   "cell_type": "markdown",
   "id": "a4e253e5-e098-4253-b401-57f0cf753325",
   "metadata": {},
   "source": [
    "## Numericalization"
   ]
  },
  {
   "cell_type": "markdown",
   "id": "83ee57e9-54d7-45cb-a23d-68156b0350f8",
   "metadata": {},
   "source": [
    "After completing Tokenization, we need to convert each token into a number, because the model only accepts numbers as input. But ... how to do it?\n",
    "We need a large token dictionary to map each token to a number!"
   ]
  },
  {
   "cell_type": "code",
   "execution_count": null,
   "id": "7d56000f-9137-4f7f-b3b6-93624efddc50",
   "metadata": {},
   "outputs": [],
   "source": [
    "vocab = tokz.get_vocab()"
   ]
  },
  {
   "cell_type": "markdown",
   "id": "f062775c-83b5-48cb-be62-70d9e1355d05",
   "metadata": {},
   "source": [
    "The above is the token dictionary that comes with the `deberta-v3-small` model. You can print it out to check."
   ]
  },
  {
   "cell_type": "code",
   "execution_count": null,
   "id": "dd749eeb-17da-4bd9-b229-c96270a0d415",
   "metadata": {},
   "outputs": [],
   "source": [
    "tokz(\"A platypus is an ornithorhynchus anatinus.\")"
   ]
  },
  {
   "cell_type": "markdown",
   "id": "95028988-a530-46d2-96a9-b11c2e9ab3d7",
   "metadata": {},
   "source": [
    "According to this token dictionary, we can convert the original token sequence into a digital sequence. Input_ids is the number we need, token_type_ids represents whether all tokens belong to the same sentence, and attention_mask represents whether the token exists in the token dictionary.\n",
    "\n",
    "Here's a simple function which tokenizes our inputs:"
   ]
  },
  {
   "cell_type": "code",
   "execution_count": null,
   "id": "8c6da089-a612-499b-8a00-e448a0eee212",
   "metadata": {},
   "outputs": [],
   "source": [
    "def tok_func(x): return tokz(x[\"input\"])"
   ]
  },
  {
   "cell_type": "markdown",
   "id": "681d176d-f055-42fd-87de-88dcee8ec18a",
   "metadata": {},
   "source": [
    "To run this quickly in parallel on every row in our dataset, use map:"
   ]
  },
  {
   "cell_type": "code",
   "execution_count": null,
   "id": "fec0c346-3726-42d2-87c6-2260b7d4c80c",
   "metadata": {},
   "outputs": [],
   "source": [
    "tok_ds = ds.map(tok_func, batched=True)\n",
    "tok_ds"
   ]
  },
  {
   "cell_type": "markdown",
   "id": "ad41633c-b609-4c71-b51e-7be9861fa05e",
   "metadata": {},
   "source": [
    "This adds a new item to our dataset called input_ids. For instance, here is the input and IDs for the first row of our data:"
   ]
  },
  {
   "cell_type": "code",
   "execution_count": null,
   "id": "7fad8274-4847-49f2-83ab-c3ae6abe6313",
   "metadata": {},
   "outputs": [],
   "source": [
    "row = tok_ds[0]\n",
    "row['input'], row['input_ids']"
   ]
  },
  {
   "cell_type": "markdown",
   "id": "f5fcd90d-f60b-4ca7-9101-e788bb3be03e",
   "metadata": {},
   "source": [
    "Finally, we need to prepare our labels. Transformers always assumes that your labels has the column name labels, but in our dataset it's currently score. Therefore, we need to rename it:"
   ]
  },
  {
   "cell_type": "code",
   "execution_count": null,
   "id": "bb8e3ef2-0574-411f-ab17-3b35af0d7519",
   "metadata": {},
   "outputs": [],
   "source": [
    "tok_ds = tok_ds.rename_columns({'score':'labels'})\n",
    "tok_ds"
   ]
  },
  {
   "cell_type": "markdown",
   "id": "17dc8f85-fc53-425f-ae26-fe9c1429a667",
   "metadata": {},
   "source": [
    "Now that we've prepared our tokens and labels, we need to create our validation set."
   ]
  },
  {
   "cell_type": "markdown",
   "id": "c124199a-7978-4c01-9924-c47fb63ca2fb",
   "metadata": {},
   "source": [
    "## Test and validation sets"
   ]
  },
  {
   "cell_type": "code",
   "execution_count": null,
   "id": "ad9891e8-9f0e-46da-a9e2-7c357673f337",
   "metadata": {},
   "outputs": [],
   "source": [
    "eval_df = pd.read_csv('https://static-1300131294.cos.ap-shanghai.myqcloud.com/data/deep-learning/nlp/phrase_matching_test.csv')\n",
    "eval_df['input'] = 'TEXT1: ' + eval_df.context + '; TEXT2: ' + eval_df.target + '; ANC1: ' + eval_df.anchor\n",
    "eval_ds = Dataset.from_pandas(eval_df).map(tok_func, batched=True)\n",
    "eval_ds"
   ]
  },
  {
   "cell_type": "markdown",
   "id": "ddaad27f-c72f-4867-bc54-b6b3e83329ea",
   "metadata": {},
   "source": [
    "This is the test set. Possibly the most important idea in machine learning is that of having separate training, validation, and test data sets."
   ]
  },
  {
   "cell_type": "code",
   "execution_count": null,
   "id": "263cec95-5e4b-4fec-bc06-7e55a3a9e25f",
   "metadata": {},
   "outputs": [],
   "source": [
    "dds = tok_ds.train_test_split(0.25, seed=42)\n",
    "dds"
   ]
  },
  {
   "cell_type": "markdown",
   "id": "fae92113-59e2-475d-b472-4f4f7c338f39",
   "metadata": {},
   "source": [
    "This is the validation set. We use train_test_split to separate it from the training set with a separation ratio of 25%."
   ]
  },
  {
   "cell_type": "markdown",
   "id": "c23e0df9-6feb-451a-8d26-7515cc21e6d9",
   "metadata": {},
   "source": [
    "## Training our model"
   ]
  },
  {
   "cell_type": "markdown",
   "id": "c8294281-4b31-4446-a4a4-2c99ba4bd593",
   "metadata": {},
   "source": [
    "Before starting training, we need to set some hyperparameters for our model. Here's a concise explanation:\n",
    "\n",
    "- **Batch Size (`bs`):** 128 examples processed in each iteration.\n",
    "- **Epochs (`epochs`):** The model will be trained through the entire dataset 4 times.\n",
    "- **Learning Rate (`lr`):** The step size for adjusting model weights during optimization is set to 8e-5.\n",
    "- **TrainingArguments (`args`):**\n",
    "  - **Warmup Ratio:** 10% of training steps used for learning rate warm-up.\n",
    "  - **Learning Rate Scheduler:** Cosine learning rate scheduler.\n",
    "  - **Mixed Precision (`fp16`):** Training with mixed-precision for faster computation.\n",
    "  - **Evaluation Strategy:** Model evaluation after each epoch.\n",
    "  - **Batch Sizes:** 128 examples per training device, 256 for evaluation.\n",
    "  - **Number of Training Epochs:** Training for 4 epochs.\n",
    "  - **Weight Decay:** L2 regularization with a rate of 0.01.\n",
    "  - **Report To:** No reports sent during training (set to 'none'). to 'none')."
   ]
  },
  {
   "cell_type": "code",
   "execution_count": null,
   "id": "a0134c74-63b1-472f-8a8e-ad9eefae0a2b",
   "metadata": {},
   "outputs": [],
   "source": [
    "bs = 128\n",
    "epochs = 4\n",
    "lr = 8e-5\n",
    "args = TrainingArguments('outputs', learning_rate=lr, warmup_ratio=0.1, lr_scheduler_type='cosine', fp16=True,\n",
    "    evaluation_strategy=\"epoch\", per_device_train_batch_size=bs, per_device_eval_batch_size=bs*2,\n",
    "    num_train_epochs=epochs, weight_decay=0.01, report_to='none')"
   ]
  },
  {
   "cell_type": "markdown",
   "id": "d0458916-7686-4833-84ec-c66823ad6fdf",
   "metadata": {},
   "source": [
    "Now, we can initialize a pre-trained sequence classification model and sets up a training environment using Hugging Face's Trainer. The model is loaded with `AutoModelForSequenceClassification.from_pretrained` and configured with training parameters in the `Trainer` object.\n",
    "\r\n",
    "\r\n"
   ]
  },
  {
   "cell_type": "code",
   "execution_count": null,
   "id": "32d7e88e-d163-47b8-9b7b-8f910e500fa2",
   "metadata": {},
   "outputs": [],
   "source": [
    "model = AutoModelForSequenceClassification.from_pretrained(model_nm, num_labels=1)\n",
    "trainer = Trainer(model, args, train_dataset=dds['train'], eval_dataset=dds['test'],\n",
    "                  tokenizer=tokz)"
   ]
  },
  {
   "cell_type": "code",
   "execution_count": null,
   "id": "664277e2-2771-44aa-8695-d448c38e86f6",
   "metadata": {},
   "outputs": [],
   "source": [
    "trainer.train();"
   ]
  },
  {
   "cell_type": "code",
   "execution_count": null,
   "id": "3c35b83e-0320-4ea6-89df-342f9d3fb36e",
   "metadata": {},
   "outputs": [],
   "source": [
    "preds = trainer.predict(eval_ds).predictions.astype(float)\n",
    "preds"
   ]
  },
  {
   "cell_type": "markdown",
   "id": "138c6cd1-e0cb-405e-8b15-952e90c6a954",
   "metadata": {},
   "source": [
    "Look out - some of our predictions are <0, or >1! Let's fix those out-of-bounds predictions:"
   ]
  },
  {
   "cell_type": "code",
   "execution_count": null,
   "id": "d6cfff69-3178-4afb-858e-5653a938e3af",
   "metadata": {},
   "outputs": [],
   "source": [
    "preds = np.clip(preds, 0, 1)\n",
    "preds"
   ]
  },
  {
   "cell_type": "markdown",
   "id": "464c75ad-e4c3-4c6a-a776-c98011ed5eba",
   "metadata": {
    "jp-MarkdownHeadingCollapsed": true
   },
   "source": [
    "# Acknowledgments\n",
    "\n",
    "Thanks to [Jeremy Howard](https://www.kaggle.com/jhoward) for creating [Getting started with NLP for absolute beginners](https://www.kaggle.com/code/jhoward/getting-started-with-nlp-for-absolute-beginners). It inspires the majority of the content in this chapter."
   ]
  }
 ],
 "metadata": {
  "kernelspec": {
   "display_name": "vmamba",
   "language": "python",
   "name": "vmamba"
  },
  "language_info": {
   "codemirror_mode": {
    "name": "ipython",
    "version": 3
   },
   "file_extension": ".py",
   "mimetype": "text/x-python",
   "name": "python",
   "nbconvert_exporter": "python",
   "pygments_lexer": "ipython3",
   "version": "3.10.13"
  }
 },
 "nbformat": 4,
 "nbformat_minor": 5
}
